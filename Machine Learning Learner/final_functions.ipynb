{
 "cells": [
  {
   "cell_type": "markdown",
   "id": "4829ee5c-7698-4296-b897-b870a6061841",
   "metadata": {},
   "source": [
    "# This Notebook is the main notebook that makes and exports the following: \n",
    "\n",
    "- Machine learning Models: \n",
    "     1. Random forest\n",
    "     2. Gradient boosted trees\n",
    "- important functions to acutally makes things work faster     \n"
   ]
  },
  {
   "cell_type": "markdown",
   "id": "0a9711d3-d75f-4e57-b445-06e26718e98f",
   "metadata": {
    "tags": []
   },
   "source": [
    "# Imports"
   ]
  },
  {
   "cell_type": "code",
   "execution_count": 37,
   "id": "5f73f4e1-3b65-4d4e-b473-688b56994670",
   "metadata": {
    "tags": []
   },
   "outputs": [
    {
     "name": "stdout",
     "output_type": "stream",
     "text": [
      "\u001b[33mWARNING: Running pip as the 'root' user can result in broken permissions and conflicting behaviour with the system package manager. It is recommended to use a virtual environment instead: https://pip.pypa.io/warnings/venv\u001b[0m\u001b[33m\n",
      "\u001b[0m"
     ]
    }
   ],
   "source": [
    "! pip install fastai --quiet"
   ]
  },
  {
   "cell_type": "code",
   "execution_count": 3,
   "id": "8f2b5fef-d33f-4142-a7c8-92026d755a38",
   "metadata": {
    "tags": []
   },
   "outputs": [],
   "source": [
    "import pandas as pd, numpy as np\n",
    "from glob import glob\n",
    "import time\n",
    "import os\n",
    "\n",
    "\n",
    "\n",
    "from pandas.api.types import is_string_dtype, is_numeric_dtype, is_categorical_dtype\n",
    "from fastai.tabular.all import *\n",
    "from sklearn.ensemble import RandomForestRegressor\n",
    "from sklearn.tree import DecisionTreeRegressor\n",
    "from IPython.display import Image, display_svg, SVG\n",
    "from fastai.imports import *\n",
    "\n",
    "pd.options.display.max_rows = 20\n",
    "pd.options.display.max_columns = 8\n",
    "pd.set_option('display.max_columns', None)\n",
    "pd.set_option('display.max_rows', 150)\n",
    "matplotlib.rcParams['font.size'] = 14\n",
    "matplotlib.rcParams['figure.figsize'] = (10, 6)\n",
    "matplotlib.rcParams['figure.facecolor'] = '#00000000'"
   ]
  },
  {
   "cell_type": "markdown",
   "id": "9ccd3b2d-0832-477c-8e5d-7c9f634c8c97",
   "metadata": {},
   "source": [
    "# Load and Transform the dataframe"
   ]
  },
  {
   "cell_type": "code",
   "execution_count": 4,
   "id": "cbcd9198-c3e7-4459-9d81-3b723f89b3d6",
   "metadata": {
    "tags": []
   },
   "outputs": [],
   "source": [
    "def reward_levels_engineering(df):\n",
    "    df[\"reward levels\"] = df[\"reward levels\"].str.replace(\"$\", \"\", regex=False)\n",
    "    df_split = df[\"reward levels\"].str.split(\",\", expand=True)[[0]]\n",
    "    df_split.columns = ['level_0']\n",
    "    df_split = df_split.fillna(\"0\")\n",
    "    df_split = df_split.astype(int)\n",
    "    df = df.join(df_split)\n",
    "    return df\n",
    "\n",
    "\n",
    "def load_df_and_clean(df):\n",
    "    df = df.drop(columns=['project id'])\n",
    "    df = df[df.levels <= 11]\n",
    "    f = df.comments <= 1000\n",
    "    df = df[f]\n",
    "    df['funded date'] = pd.to_datetime(df['funded date'])\n",
    "    df['year'] = df['funded date'].dt.year\n",
    "    df = reward_levels_engineering(df) # apply necessary feature engineering for the reward levels\n",
    "    return df    "
   ]
  },
  {
   "cell_type": "code",
   "execution_count": 5,
   "id": "f730839d-dfbc-4c89-b5dd-b2b68dcb11b4",
   "metadata": {
    "tags": []
   },
   "outputs": [],
   "source": [
    "df = pd.read_csv('video_games.csv')"
   ]
  },
  {
   "cell_type": "code",
   "execution_count": 6,
   "id": "5403d9fb-6674-4c01-9715-f0c881f8f144",
   "metadata": {
    "tags": []
   },
   "outputs": [],
   "source": [
    "df =  pd.read_csv('event_camp.csv', encoding_errors='ignore')"
   ]
  },
  {
   "cell_type": "code",
   "execution_count": 85,
   "id": "b1b85e4c-8caa-43d8-8395-40250a11a9f7",
   "metadata": {
    "tags": []
   },
   "outputs": [
    {
     "data": {
      "text/html": [
       "<div>\n",
       "<style scoped>\n",
       "    .dataframe tbody tr th:only-of-type {\n",
       "        vertical-align: middle;\n",
       "    }\n",
       "\n",
       "    .dataframe tbody tr th {\n",
       "        vertical-align: top;\n",
       "    }\n",
       "\n",
       "    .dataframe thead th {\n",
       "        text-align: right;\n",
       "    }\n",
       "</style>\n",
       "<table border=\"1\" class=\"dataframe\">\n",
       "  <thead>\n",
       "    <tr style=\"text-align: right;\">\n",
       "      <th></th>\n",
       "      <th>project id</th>\n",
       "      <th>name</th>\n",
       "      <th>url</th>\n",
       "      <th>category</th>\n",
       "      <th>subcategory</th>\n",
       "      <th>location</th>\n",
       "      <th>status</th>\n",
       "      <th>goal</th>\n",
       "      <th>pledged</th>\n",
       "      <th>funded percentage</th>\n",
       "      <th>backers</th>\n",
       "      <th>funded date</th>\n",
       "      <th>levels</th>\n",
       "      <th>reward levels</th>\n",
       "      <th>updates</th>\n",
       "      <th>comments</th>\n",
       "      <th>duration</th>\n",
       "    </tr>\n",
       "  </thead>\n",
       "  <tbody>\n",
       "    <tr>\n",
       "      <th>0</th>\n",
       "      <td>39409</td>\n",
       "      <td>WHILE THE TREES SLEEP</td>\n",
       "      <td>http://www.kickstarter.com/projects/emiliesabath/while-the-trees-sleep</td>\n",
       "      <td>Film &amp; Video</td>\n",
       "      <td>Short Film</td>\n",
       "      <td>Columbia, MO</td>\n",
       "      <td>successful</td>\n",
       "      <td>10500.0</td>\n",
       "      <td>11545.0</td>\n",
       "      <td>1.099524</td>\n",
       "      <td>66</td>\n",
       "      <td>Fri, 19 Aug 2011 19:28:17 -0000</td>\n",
       "      <td>7</td>\n",
       "      <td>$25,$50,$100,$250,$500,$1,000,$2,500</td>\n",
       "      <td>10</td>\n",
       "      <td>2</td>\n",
       "      <td>30.0</td>\n",
       "    </tr>\n",
       "  </tbody>\n",
       "</table>\n",
       "</div>"
      ],
      "text/plain": [
       "   project id                   name  \\\n",
       "0       39409  WHILE THE TREES SLEEP   \n",
       "\n",
       "                                                                      url  \\\n",
       "0  http://www.kickstarter.com/projects/emiliesabath/while-the-trees-sleep   \n",
       "\n",
       "       category subcategory      location      status     goal  pledged  \\\n",
       "0  Film & Video  Short Film  Columbia, MO  successful  10500.0  11545.0   \n",
       "\n",
       "   funded percentage  backers                      funded date  levels  \\\n",
       "0           1.099524       66  Fri, 19 Aug 2011 19:28:17 -0000       7   \n",
       "\n",
       "                          reward levels  updates  comments  duration  \n",
       "0  $25,$50,$100,$250,$500,$1,000,$2,500       10         2      30.0  "
      ]
     },
     "execution_count": 85,
     "metadata": {},
     "output_type": "execute_result"
    }
   ],
   "source": [
    "df.head(1)"
   ]
  },
  {
   "cell_type": "code",
   "execution_count": 86,
   "id": "144d46b7-f0db-42dd-b1db-ba354f480dca",
   "metadata": {
    "tags": []
   },
   "outputs": [],
   "source": [
    "df = load_df_and_clean(df)"
   ]
  },
  {
   "cell_type": "code",
   "execution_count": 87,
   "id": "85ae014f-f270-43ec-83e1-d75a2f3c76ed",
   "metadata": {
    "tags": []
   },
   "outputs": [],
   "source": [
    "# make a log transformation quickly and efficiently\n",
    "def log_transform(df,col):\n",
    "    df[col]= np.log1p(df[col])\n",
    "    print(df[col].skew())\n",
    "    \n",
    "def set_range_col(df,col,l,r):\n",
    "    # very cool state of the pledged money raised\n",
    "    df =  df[(df[col] >= l) & (df[col] <= r)]\n",
    "    print( df[(df[col] >= l) & (df[col] <= r)][col].skew())\n",
    "    return df"
   ]
  },
  {
   "cell_type": "code",
   "execution_count": 88,
   "id": "bc9af694-677c-4dc5-bd80-57cde7c0e73e",
   "metadata": {
    "tags": []
   },
   "outputs": [
    {
     "name": "stdout",
     "output_type": "stream",
     "text": [
      "-1.011312118792583\n",
      "-0.5455045093007429\n",
      "-0.11219109375207353\n"
     ]
    },
    {
     "data": {
      "text/plain": [
       "-0.11219109375207353"
      ]
     },
     "execution_count": 88,
     "metadata": {},
     "output_type": "execute_result"
    }
   ],
   "source": [
    "dep_var = 'pledged'\n",
    "\n",
    "log_transform(df,'pledged')\n",
    "\n",
    "df = set_range_col(df,'pledged',2,11)\n",
    "\n",
    "df['pledged'].skew()\n",
    "\n",
    "log_transform(df,'goal')\n",
    "\n",
    "df['goal'].skew()"
   ]
  },
  {
   "cell_type": "code",
   "execution_count": 89,
   "id": "817129f3-2764-4af7-a001-73e430a57a79",
   "metadata": {
    "tags": []
   },
   "outputs": [],
   "source": [
    "def deal_with_outliers(df,col):\n",
    "    Q1 = df[col].quantile(0.25)  # 25th percentile\n",
    "    Q3 = df[col].quantile(0.75)  # 75th percentile\n",
    "    IQR = Q3 - Q1                      # Interquartile range\n",
    "\n",
    "    lower_bound = Q1 - 1.5 * IQR\n",
    "    upper_bound = Q3 + 1.5 * IQR\n",
    "    upper_bound = np.ceil(upper_bound)\n",
    "    outliers = df[(df[col] < lower_bound) | (df[col] > upper_bound)]\n",
    "    print(f\"Number of outliers: {len(outliers)}\")\n",
    "\n",
    "    df.loc[df[col] > upper_bound, col] = upper_bound"
   ]
  },
  {
   "cell_type": "markdown",
   "id": "ddeed032-58b9-4b35-a0ac-76e57ea2d926",
   "metadata": {
    "tags": []
   },
   "source": [
    "# Backers Deal with Outliers"
   ]
  },
  {
   "cell_type": "code",
   "execution_count": 90,
   "id": "cd8a0f25-0a61-4563-a5ea-bf34cc5a3c4c",
   "metadata": {},
   "outputs": [
    {
     "name": "stdout",
     "output_type": "stream",
     "text": [
      "Number of outliers: 2459\n",
      "-0.34667673166110596\n"
     ]
    }
   ],
   "source": [
    "deal_with_outliers(df,'backers')\n",
    "\n",
    "log_transform(df,'backers')"
   ]
  },
  {
   "cell_type": "markdown",
   "id": "a1d96e12-4a40-42da-a9c3-6b4f3755d306",
   "metadata": {
    "tags": []
   },
   "source": [
    "# Comments Outliers"
   ]
  },
  {
   "cell_type": "code",
   "execution_count": 91,
   "id": "3cb822db-56d7-4f80-8c05-251154f1f5f8",
   "metadata": {},
   "outputs": [
    {
     "name": "stdout",
     "output_type": "stream",
     "text": [
      "Number of outliers: 3285\n",
      "0.6147742005809352\n"
     ]
    }
   ],
   "source": [
    "deal_with_outliers(df,'comments')\n",
    "\n",
    "log_transform(df,'comments')"
   ]
  },
  {
   "cell_type": "code",
   "execution_count": 92,
   "id": "eb1e6033-9781-42d9-8f93-9f8dd1c3c4c3",
   "metadata": {
    "tags": []
   },
   "outputs": [],
   "source": [
    "# df['comments'].hist()"
   ]
  },
  {
   "cell_type": "markdown",
   "id": "3c1dcd2c-64ac-4712-8bff-3cc12e70b0b9",
   "metadata": {},
   "source": [
    "# Level_0 outliers"
   ]
  },
  {
   "cell_type": "code",
   "execution_count": 93,
   "id": "afe68499-4db8-40fe-a52f-3597666c3e98",
   "metadata": {
    "tags": []
   },
   "outputs": [
    {
     "name": "stdout",
     "output_type": "stream",
     "text": [
      "Number of outliers: 2478\n"
     ]
    }
   ],
   "source": [
    "deal_with_outliers(df,'level_0')"
   ]
  },
  {
   "cell_type": "code",
   "execution_count": 94,
   "id": "4aec6a9c-91db-4d62-a679-b8bc393c9fff",
   "metadata": {
    "tags": []
   },
   "outputs": [
    {
     "name": "stdout",
     "output_type": "stream",
     "text": [
      "0.10854147415712079\n"
     ]
    }
   ],
   "source": [
    "log_transform(df,'level_0')"
   ]
  },
  {
   "cell_type": "markdown",
   "id": "3d40e6ac-4824-4478-98d0-6b26f5998b2a",
   "metadata": {},
   "source": [
    "shall i log transform the level 0 ? "
   ]
  },
  {
   "cell_type": "code",
   "execution_count": 95,
   "id": "04f38dda-a0a8-45b0-be16-965fbbee6f90",
   "metadata": {
    "tags": []
   },
   "outputs": [
    {
     "data": {
      "text/plain": [
       "Index(['name', 'url', 'category', 'subcategory', 'location', 'status', 'goal',\n",
       "       'pledged', 'funded percentage', 'backers', 'funded date', 'levels',\n",
       "       'reward levels', 'updates', 'comments', 'duration', 'year', 'level_0'],\n",
       "      dtype='object')"
      ]
     },
     "execution_count": 95,
     "metadata": {},
     "output_type": "execute_result"
    }
   ],
   "source": [
    "df.columns"
   ]
  },
  {
   "cell_type": "code",
   "execution_count": 96,
   "id": "026cec8e-8e74-49b7-afcf-c92b0c1267a9",
   "metadata": {
    "tags": []
   },
   "outputs": [],
   "source": [
    "def drop_columns(df,cols = []):\n",
    "    if cols: \n",
    "        df = df.drop(columns=cols)\n",
    "    return df"
   ]
  },
  {
   "cell_type": "code",
   "execution_count": 97,
   "id": "5b8661f6-2110-4703-8043-9f2d9c811bc8",
   "metadata": {
    "tags": []
   },
   "outputs": [],
   "source": [
    "df = drop_columns(df,cols=['reward levels'])"
   ]
  },
  {
   "cell_type": "markdown",
   "id": "31dbca39-c69d-41cb-bfe2-51b25e3eabb9",
   "metadata": {},
   "source": [
    "# combine all the steps together"
   ]
  },
  {
   "cell_type": "code",
   "execution_count": null,
   "id": "abb1a72d-24db-4b80-b45f-6d03a27abc97",
   "metadata": {},
   "outputs": [],
   "source": [
    "df =  pd.read_csv('event_camp.csv', encoding_errors='ignore')"
   ]
  },
  {
   "cell_type": "code",
   "execution_count": 98,
   "id": "7fd151ba-58b7-43d5-ab81-cbd8165893dd",
   "metadata": {
    "tags": []
   },
   "outputs": [],
   "source": [
    "def all_data_preprocessing(df):\n",
    "    df = load_df_and_clean(df)\n",
    "    \n",
    "    dep_var = 'pledged'\n",
    "    log_transform(df,'pledged')\n",
    "    df = set_range_col(df,'pledged',2,11)\n",
    "\n",
    "    log_transform(df,'goal')\n",
    "    \n",
    "    deal_with_outliers(df,'backers')\n",
    "\n",
    "    log_transform(df,'backers')\n",
    "    \n",
    "    deal_with_outliers(df,'comments')\n",
    "\n",
    "    log_transform(df,'comments')\n",
    "    \n",
    "    deal_with_outliers(df,'level_0')\n",
    "    \n",
    "    log_transform(df,'level_0') # shall we log transform it ? \n",
    "    \n",
    "    df = drop_columns(df,cols=['reward levels'])\n",
    "    \n",
    "    return df"
   ]
  },
  {
   "cell_type": "code",
   "execution_count": 99,
   "id": "03335326-70a1-482e-b8b8-f5960a0c945e",
   "metadata": {
    "tags": []
   },
   "outputs": [],
   "source": [
    "def train_test_split(df):\n",
    "    total = df.shape[0]\n",
    "    testing_portion = int(total * 0.05)\n",
    "    \n",
    "    # the splits\n",
    "    training_data = total - testing_portion\n",
    "    test_data = training_data + testing_portion\n",
    "\n",
    "\n",
    "    df1 = df[:training_data]\n",
    "    df_test = df[training_data:test_data]\n",
    "    return df1, df_test"
   ]
  },
  {
   "cell_type": "code",
   "execution_count": 100,
   "id": "b1f783d5-ec53-4a03-b4c5-a348be7e2889",
   "metadata": {
    "tags": []
   },
   "outputs": [],
   "source": [
    "df1, df_test = train_test_split(df)"
   ]
  },
  {
   "cell_type": "markdown",
   "id": "55e8aa18-5f5e-41fe-9a30-fbef981c248e",
   "metadata": {
    "tags": []
   },
   "source": [
    "# Splitting the data"
   ]
  },
  {
   "cell_type": "code",
   "execution_count": 21,
   "id": "e9d74835-0fcf-4e30-a19d-9187e19726ac",
   "metadata": {
    "tags": []
   },
   "outputs": [],
   "source": [
    "# 20% validation set\n",
    "splits = RandomSplitter(valid_pct=0.2,seed=42)(df1)"
   ]
  },
  {
   "cell_type": "code",
   "execution_count": 22,
   "id": "dfbae4b8-d6ab-484f-aab9-f0d565cfe662",
   "metadata": {
    "tags": []
   },
   "outputs": [
    {
     "data": {
      "text/plain": [
       "(26562, 6640, 33202)"
      ]
     },
     "execution_count": 22,
     "metadata": {},
     "output_type": "execute_result"
    }
   ],
   "source": [
    "len(splits[0]),len(splits[1]),len(df1)"
   ]
  },
  {
   "cell_type": "markdown",
   "id": "e6ea535d-6997-4b7f-be1d-ec3674f11a56",
   "metadata": {},
   "source": [
    "# Processing the data"
   ]
  },
  {
   "cell_type": "code",
   "execution_count": 23,
   "id": "40836f46-f256-41e1-ba04-f90b98fa3a28",
   "metadata": {
    "tags": []
   },
   "outputs": [],
   "source": [
    "procs = [Categorify,FillMissing]\n",
    "\n",
    "# here the \"1\" means something i need to remind myself of\n",
    "cont, cat = cont_cat_split(df1,9000,dep_var=dep_var)"
   ]
  },
  {
   "cell_type": "code",
   "execution_count": 24,
   "id": "75fa4b57-db10-4baf-92b8-153725852dc6",
   "metadata": {
    "tags": []
   },
   "outputs": [],
   "source": [
    "to = TabularPandas(df1, procs,cat, cont,y_names=dep_var,splits=splits)"
   ]
  },
  {
   "cell_type": "markdown",
   "id": "6189c0df-2eb1-4220-9537-d707b2231f56",
   "metadata": {},
   "source": [
    "# CheckPoint\n",
    "\n",
    "save what have you done so far..."
   ]
  },
  {
   "cell_type": "code",
   "execution_count": 25,
   "id": "016022d1-1701-47e6-9353-d360e1937860",
   "metadata": {
    "tags": []
   },
   "outputs": [],
   "source": [
    "save_pickle('./to_event.pkl',to)"
   ]
  },
  {
   "cell_type": "markdown",
   "id": "0f7d8a10-b4e0-45cf-9acd-fc569f980814",
   "metadata": {},
   "source": [
    "# Make a decision Tree"
   ]
  },
  {
   "cell_type": "code",
   "execution_count": 26,
   "id": "cf6b9418-c9b5-42d2-8386-4db19b5e87cb",
   "metadata": {
    "tags": []
   },
   "outputs": [],
   "source": [
    "to = load_pickle('./to_event.pkl')"
   ]
  },
  {
   "cell_type": "code",
   "execution_count": 27,
   "id": "eeab886d-c1ad-41b3-bf2d-681591f2a537",
   "metadata": {
    "tags": []
   },
   "outputs": [],
   "source": [
    "xs, y = to.train.xs, to.train.y\n",
    "valid_xs, valid_y = to.valid.xs, to.valid.y "
   ]
  },
  {
   "cell_type": "code",
   "execution_count": 28,
   "id": "2dbe68a5-6173-4ee4-a451-d33eea0332b0",
   "metadata": {
    "tags": []
   },
   "outputs": [],
   "source": [
    "from sklearn.tree import DecisionTreeRegressor"
   ]
  },
  {
   "cell_type": "code",
   "execution_count": 29,
   "id": "9c0fba33-6f8c-4a54-b3a5-7433cd6b9643",
   "metadata": {
    "tags": []
   },
   "outputs": [
    {
     "data": {
      "text/html": [
       "<style>#sk-container-id-1 {color: black;}#sk-container-id-1 pre{padding: 0;}#sk-container-id-1 div.sk-toggleable {background-color: white;}#sk-container-id-1 label.sk-toggleable__label {cursor: pointer;display: block;width: 100%;margin-bottom: 0;padding: 0.3em;box-sizing: border-box;text-align: center;}#sk-container-id-1 label.sk-toggleable__label-arrow:before {content: \"▸\";float: left;margin-right: 0.25em;color: #696969;}#sk-container-id-1 label.sk-toggleable__label-arrow:hover:before {color: black;}#sk-container-id-1 div.sk-estimator:hover label.sk-toggleable__label-arrow:before {color: black;}#sk-container-id-1 div.sk-toggleable__content {max-height: 0;max-width: 0;overflow: hidden;text-align: left;background-color: #f0f8ff;}#sk-container-id-1 div.sk-toggleable__content pre {margin: 0.2em;color: black;border-radius: 0.25em;background-color: #f0f8ff;}#sk-container-id-1 input.sk-toggleable__control:checked~div.sk-toggleable__content {max-height: 200px;max-width: 100%;overflow: auto;}#sk-container-id-1 input.sk-toggleable__control:checked~label.sk-toggleable__label-arrow:before {content: \"▾\";}#sk-container-id-1 div.sk-estimator input.sk-toggleable__control:checked~label.sk-toggleable__label {background-color: #d4ebff;}#sk-container-id-1 div.sk-label input.sk-toggleable__control:checked~label.sk-toggleable__label {background-color: #d4ebff;}#sk-container-id-1 input.sk-hidden--visually {border: 0;clip: rect(1px 1px 1px 1px);clip: rect(1px, 1px, 1px, 1px);height: 1px;margin: -1px;overflow: hidden;padding: 0;position: absolute;width: 1px;}#sk-container-id-1 div.sk-estimator {font-family: monospace;background-color: #f0f8ff;border: 1px dotted black;border-radius: 0.25em;box-sizing: border-box;margin-bottom: 0.5em;}#sk-container-id-1 div.sk-estimator:hover {background-color: #d4ebff;}#sk-container-id-1 div.sk-parallel-item::after {content: \"\";width: 100%;border-bottom: 1px solid gray;flex-grow: 1;}#sk-container-id-1 div.sk-label:hover label.sk-toggleable__label {background-color: #d4ebff;}#sk-container-id-1 div.sk-serial::before {content: \"\";position: absolute;border-left: 1px solid gray;box-sizing: border-box;top: 0;bottom: 0;left: 50%;z-index: 0;}#sk-container-id-1 div.sk-serial {display: flex;flex-direction: column;align-items: center;background-color: white;padding-right: 0.2em;padding-left: 0.2em;position: relative;}#sk-container-id-1 div.sk-item {position: relative;z-index: 1;}#sk-container-id-1 div.sk-parallel {display: flex;align-items: stretch;justify-content: center;background-color: white;position: relative;}#sk-container-id-1 div.sk-item::before, #sk-container-id-1 div.sk-parallel-item::before {content: \"\";position: absolute;border-left: 1px solid gray;box-sizing: border-box;top: 0;bottom: 0;left: 50%;z-index: -1;}#sk-container-id-1 div.sk-parallel-item {display: flex;flex-direction: column;z-index: 1;position: relative;background-color: white;}#sk-container-id-1 div.sk-parallel-item:first-child::after {align-self: flex-end;width: 50%;}#sk-container-id-1 div.sk-parallel-item:last-child::after {align-self: flex-start;width: 50%;}#sk-container-id-1 div.sk-parallel-item:only-child::after {width: 0;}#sk-container-id-1 div.sk-dashed-wrapped {border: 1px dashed gray;margin: 0 0.4em 0.5em 0.4em;box-sizing: border-box;padding-bottom: 0.4em;background-color: white;}#sk-container-id-1 div.sk-label label {font-family: monospace;font-weight: bold;display: inline-block;line-height: 1.2em;}#sk-container-id-1 div.sk-label-container {text-align: center;}#sk-container-id-1 div.sk-container {/* jupyter's `normalize.less` sets `[hidden] { display: none; }` but bootstrap.min.css set `[hidden] { display: none !important; }` so we also need the `!important` here to be able to override the default hidden behavior on the sphinx rendered scikit-learn.org. See: https://github.com/scikit-learn/scikit-learn/issues/21755 */display: inline-block !important;position: relative;}#sk-container-id-1 div.sk-text-repr-fallback {display: none;}</style><div id=\"sk-container-id-1\" class=\"sk-top-container\"><div class=\"sk-text-repr-fallback\"><pre>DecisionTreeRegressor()</pre><b>In a Jupyter environment, please rerun this cell to show the HTML representation or trust the notebook. <br />On GitHub, the HTML representation is unable to render, please try loading this page with nbviewer.org.</b></div><div class=\"sk-container\" hidden><div class=\"sk-item\"><div class=\"sk-estimator sk-toggleable\"><input class=\"sk-toggleable__control sk-hidden--visually\" id=\"sk-estimator-id-1\" type=\"checkbox\" checked><label for=\"sk-estimator-id-1\" class=\"sk-toggleable__label sk-toggleable__label-arrow\">DecisionTreeRegressor</label><div class=\"sk-toggleable__content\"><pre>DecisionTreeRegressor()</pre></div></div></div></div></div>"
      ],
      "text/plain": [
       "DecisionTreeRegressor()"
      ]
     },
     "execution_count": 29,
     "metadata": {},
     "output_type": "execute_result"
    }
   ],
   "source": [
    "m = DecisionTreeRegressor()\n",
    "m.fit(xs,y)"
   ]
  },
  {
   "cell_type": "code",
   "execution_count": 30,
   "id": "c705fe96-e55d-4c3a-a3c0-65202035354e",
   "metadata": {
    "tags": []
   },
   "outputs": [],
   "source": [
    "# it is good to make your loss function from scratch for you to see how math's\n",
    "# will be directly implemented inside the work that you have at hand\n",
    "# let's make the rmse\n",
    "\n",
    "import math\n",
    "def r_mse(pred, y): return round(math.sqrt(((pred-y)**2).mean()), 6)\n",
    "def m_rmse(m,xs,y): return r_mse(m.predict(xs),y)"
   ]
  },
  {
   "cell_type": "code",
   "execution_count": 31,
   "id": "1d0c2b7e-2b33-457f-ba40-8dce57f28b97",
   "metadata": {
    "tags": []
   },
   "outputs": [
    {
     "data": {
      "text/plain": [
       "(0.0, 0.138357)"
      ]
     },
     "execution_count": 31,
     "metadata": {},
     "output_type": "execute_result"
    }
   ],
   "source": [
    "m_rmse(m,xs,y), m_rmse(m,valid_xs,valid_y)"
   ]
  },
  {
   "cell_type": "markdown",
   "id": "5c73fc32-8ef3-44eb-8ec1-8cf820c42375",
   "metadata": {},
   "source": [
    "why the `validation error` is `higher than` the `training error` ? what's happening?"
   ]
  },
  {
   "cell_type": "code",
   "execution_count": 32,
   "id": "85539c8b-05ee-483c-8d8e-8ec965672130",
   "metadata": {
    "tags": []
   },
   "outputs": [
    {
     "data": {
      "text/plain": [
       "(20082, 26562)"
      ]
     },
     "execution_count": 32,
     "metadata": {},
     "output_type": "execute_result"
    }
   ],
   "source": [
    "m.get_n_leaves(), len(xs)"
   ]
  },
  {
   "cell_type": "markdown",
   "id": "9a48d681-9c24-432c-bf09-16c009ec08e6",
   "metadata": {},
   "source": [
    "we have `512 datapoints`, and the decision tree have  478 leafs which means the decision tree literally memorized the training dataset, which is known in deep learning as `overfitting`"
   ]
  },
  {
   "cell_type": "code",
   "execution_count": 33,
   "id": "badd055c-0da5-439e-951a-1e3376a79060",
   "metadata": {
    "tags": []
   },
   "outputs": [
    {
     "data": {
      "text/plain": [
       "(0.187054, 0.206137)"
      ]
     },
     "execution_count": 33,
     "metadata": {},
     "output_type": "execute_result"
    }
   ],
   "source": [
    "m = DecisionTreeRegressor(min_samples_leaf=25).fit(xs, y)\n",
    "m_rmse(m, xs, y), m_rmse(m, valid_xs, valid_y)"
   ]
  },
  {
   "cell_type": "markdown",
   "id": "a7e53d46-fa98-4fbf-a3a7-1da33e97f2e4",
   "metadata": {},
   "source": [
    "now they are closer to each other, and that's just better !"
   ]
  },
  {
   "cell_type": "code",
   "execution_count": 34,
   "id": "26ded3f7-0c7b-450c-bfee-d0cd1ce88c9f",
   "metadata": {
    "tags": []
   },
   "outputs": [
    {
     "data": {
      "text/plain": [
       "810"
      ]
     },
     "execution_count": 34,
     "metadata": {},
     "output_type": "execute_result"
    }
   ],
   "source": [
    "m.get_n_leaves() # very good result"
   ]
  },
  {
   "cell_type": "markdown",
   "id": "99727fd5-27d3-487b-a4d9-b64d6724513b",
   "metadata": {},
   "source": [
    "very cool result, 15 leafs nodes only, that is cool"
   ]
  },
  {
   "cell_type": "markdown",
   "id": "3c5abebd-af7b-499a-802e-9e4f07de41aa",
   "metadata": {},
   "source": [
    "# Creating a RandomForest"
   ]
  },
  {
   "cell_type": "code",
   "execution_count": 35,
   "id": "09f4c3e9-c30f-423e-863f-3dd6c141afcb",
   "metadata": {
    "tags": []
   },
   "outputs": [],
   "source": [
    "from sklearn.ensemble import RandomForestRegressor\n",
    "\n",
    "# we will make a function to traverse and try different parameters for the RandomForest\n",
    "# n_estimators = 40 --> number of trees, if you have time and enough sleep increase this number\n",
    "# max_samples = 200,000 rows , but we have 192,000 train datapoints , let's see if anything here breaks \n",
    "# max_features = 0.5 --> randomly take half the columns to train a single tree\n",
    "# min_samples_leaf= 5 --> the final leaf node shall contain at least 5 rows of data (5 airplane tickets)\n",
    "# n_jobs = -1 --> tell sklearn to use all of our CPU brain power to run this in parallel\n",
    "# oob_score = True --> explain this later\n",
    "\n",
    "# things to test here, increase the # of trees, use sklearn default max_feature, use the min_samples_leaf default of sklearn\n",
    "# then report your findings\n",
    "\n",
    "def rf(xs, y, n_estimators=500, max_samples=26562, max_features=0.5, min_samples_leaf=4, **kwargs):\n",
    "    return RandomForestRegressor(n_estimators=n_estimators, max_samples=max_samples, \n",
    "                                 max_features=max_features, min_samples_leaf=min_samples_leaf,\n",
    "                                 oob_score=True , n_jobs=-1).fit(xs,y)\n",
    "\n",
    "\n"
   ]
  },
  {
   "cell_type": "code",
   "execution_count": 36,
   "id": "9e4df2cb-62f4-4b65-baee-29820a3a90eb",
   "metadata": {
    "tags": []
   },
   "outputs": [],
   "source": [
    "m = rf(xs,y)"
   ]
  },
  {
   "cell_type": "code",
   "execution_count": 37,
   "id": "f628e005-fa57-4934-8743-76161e564bc1",
   "metadata": {
    "tags": []
   },
   "outputs": [
    {
     "data": {
      "text/plain": [
       "(0.101563, 0.147638)"
      ]
     },
     "execution_count": 37,
     "metadata": {},
     "output_type": "execute_result"
    }
   ],
   "source": [
    "m_rmse(m, xs, y), m_rmse(m, valid_xs, valid_y)"
   ]
  },
  {
   "cell_type": "code",
   "execution_count": 38,
   "id": "167812a7-6d16-4ac9-88d8-cd2a29c84c9c",
   "metadata": {
    "tags": []
   },
   "outputs": [],
   "source": [
    "def rf_feature_importance(m,df):\n",
    "    return pd.DataFrame(\n",
    "    {'cols':df.columns, 'imp':m.feature_importances_}\n",
    "  ).sort_values('imp',ascending=False)"
   ]
  },
  {
   "cell_type": "code",
   "execution_count": 39,
   "id": "53e39e39-b474-4c2c-91e7-d5dabbc38ac2",
   "metadata": {
    "tags": []
   },
   "outputs": [
    {
     "data": {
      "text/html": [
       "<div>\n",
       "<style scoped>\n",
       "    .dataframe tbody tr th:only-of-type {\n",
       "        vertical-align: middle;\n",
       "    }\n",
       "\n",
       "    .dataframe tbody tr th {\n",
       "        vertical-align: top;\n",
       "    }\n",
       "\n",
       "    .dataframe thead th {\n",
       "        text-align: right;\n",
       "    }\n",
       "</style>\n",
       "<table border=\"1\" class=\"dataframe\">\n",
       "  <thead>\n",
       "    <tr style=\"text-align: right;\">\n",
       "      <th></th>\n",
       "      <th>cols</th>\n",
       "      <th>imp</th>\n",
       "    </tr>\n",
       "  </thead>\n",
       "  <tbody>\n",
       "    <tr>\n",
       "      <th>12</th>\n",
       "      <td>backers</td>\n",
       "      <td>0.504940</td>\n",
       "    </tr>\n",
       "    <tr>\n",
       "      <th>11</th>\n",
       "      <td>funded percentage</td>\n",
       "      <td>0.240151</td>\n",
       "    </tr>\n",
       "    <tr>\n",
       "      <th>10</th>\n",
       "      <td>goal</td>\n",
       "      <td>0.149824</td>\n",
       "    </tr>\n",
       "    <tr>\n",
       "      <th>5</th>\n",
       "      <td>status</td>\n",
       "      <td>0.059680</td>\n",
       "    </tr>\n",
       "    <tr>\n",
       "      <th>8</th>\n",
       "      <td>updates</td>\n",
       "      <td>0.019589</td>\n",
       "    </tr>\n",
       "    <tr>\n",
       "      <th>13</th>\n",
       "      <td>comments</td>\n",
       "      <td>0.013197</td>\n",
       "    </tr>\n",
       "    <tr>\n",
       "      <th>7</th>\n",
       "      <td>levels</td>\n",
       "      <td>0.003778</td>\n",
       "    </tr>\n",
       "    <tr>\n",
       "      <th>6</th>\n",
       "      <td>funded date</td>\n",
       "      <td>0.001346</td>\n",
       "    </tr>\n",
       "    <tr>\n",
       "      <th>15</th>\n",
       "      <td>level_0</td>\n",
       "      <td>0.001310</td>\n",
       "    </tr>\n",
       "    <tr>\n",
       "      <th>14</th>\n",
       "      <td>duration</td>\n",
       "      <td>0.001199</td>\n",
       "    </tr>\n",
       "    <tr>\n",
       "      <th>1</th>\n",
       "      <td>url</td>\n",
       "      <td>0.001117</td>\n",
       "    </tr>\n",
       "    <tr>\n",
       "      <th>0</th>\n",
       "      <td>name</td>\n",
       "      <td>0.001102</td>\n",
       "    </tr>\n",
       "    <tr>\n",
       "      <th>4</th>\n",
       "      <td>location</td>\n",
       "      <td>0.000996</td>\n",
       "    </tr>\n",
       "    <tr>\n",
       "      <th>3</th>\n",
       "      <td>subcategory</td>\n",
       "      <td>0.000868</td>\n",
       "    </tr>\n",
       "    <tr>\n",
       "      <th>2</th>\n",
       "      <td>category</td>\n",
       "      <td>0.000769</td>\n",
       "    </tr>\n",
       "    <tr>\n",
       "      <th>9</th>\n",
       "      <td>year</td>\n",
       "      <td>0.000132</td>\n",
       "    </tr>\n",
       "  </tbody>\n",
       "</table>\n",
       "</div>"
      ],
      "text/plain": [
       "                 cols       imp\n",
       "12            backers  0.504940\n",
       "11  funded percentage  0.240151\n",
       "10               goal  0.149824\n",
       "5              status  0.059680\n",
       "8             updates  0.019589\n",
       "13           comments  0.013197\n",
       "7              levels  0.003778\n",
       "6         funded date  0.001346\n",
       "15            level_0  0.001310\n",
       "14           duration  0.001199\n",
       "1                 url  0.001117\n",
       "0                name  0.001102\n",
       "4            location  0.000996\n",
       "3         subcategory  0.000868\n",
       "2            category  0.000769\n",
       "9                year  0.000132"
      ]
     },
     "execution_count": 39,
     "metadata": {},
     "output_type": "execute_result"
    }
   ],
   "source": [
    "fi = rf_feature_importance(m,xs)\n",
    "fi"
   ]
  },
  {
   "cell_type": "code",
   "execution_count": 40,
   "id": "8e7416ea-5705-4240-a840-a65499c44eec",
   "metadata": {
    "tags": []
   },
   "outputs": [
    {
     "data": {
      "image/png": "[encoded data removed]",
      "text/plain": [
       "<Figure size 1200x700 with 1 Axes>"
      ]
     },
     "metadata": {
      "needs_background": "light"
     },
     "output_type": "display_data"
    }
   ],
   "source": [
    "def plot_fi(fi): \n",
    "      return fi.plot('cols','imp','barh', figsize=(12,7),legend=False)\n",
    "\n",
    "plot_fi(fi);"
   ]
  },
  {
   "cell_type": "markdown",
   "id": "8afbb0ca-fd78-4ec2-8df6-b1b5e1dc105e",
   "metadata": {},
   "source": [
    "level_0, year, subcategory, category"
   ]
  },
  {
   "cell_type": "code",
   "execution_count": 41,
   "id": "9c3d0905-cfef-4e84-9b7a-4267d28ff600",
   "metadata": {
    "tags": []
   },
   "outputs": [
    {
     "data": {
      "text/plain": [
       "12              backers\n",
       "11    funded percentage\n",
       "10                 goal\n",
       "5                status\n",
       "8               updates\n",
       "13             comments\n",
       "Name: cols, dtype: object"
      ]
     },
     "execution_count": 41,
     "metadata": {},
     "output_type": "execute_result"
    }
   ],
   "source": [
    "to_keep = fi[fi.imp>0.005].cols\n",
    "to_keep"
   ]
  },
  {
   "cell_type": "code",
   "execution_count": 42,
   "id": "16d18cc3-7e41-4131-b7ff-4a37a81f937c",
   "metadata": {
    "tags": []
   },
   "outputs": [
    {
     "data": {
      "text/plain": [
       "(6, 16)"
      ]
     },
     "execution_count": 42,
     "metadata": {},
     "output_type": "execute_result"
    }
   ],
   "source": [
    "len(to_keep) , len(fi)"
   ]
  },
  {
   "cell_type": "code",
   "execution_count": 43,
   "id": "37b6a665-03e9-44bb-b759-53bd3f533cf5",
   "metadata": {
    "tags": []
   },
   "outputs": [
    {
     "data": {
      "text/plain": [
       "['backers', 'funded percentage', 'goal', 'status', 'updates', 'comments']"
      ]
     },
     "execution_count": 43,
     "metadata": {},
     "output_type": "execute_result"
    }
   ],
   "source": [
    "xs_imp = xs[to_keep]\n",
    "valid_xs_imp = valid_xs[to_keep]\n",
    "\n",
    "valid_xs_imp.columns.tolist()"
   ]
  },
  {
   "cell_type": "code",
   "execution_count": 44,
   "id": "60f7a3ec-dbde-4d0d-99a8-476b01b4161b",
   "metadata": {
    "tags": []
   },
   "outputs": [],
   "source": [
    "m = rf(xs_imp, y)"
   ]
  },
  {
   "cell_type": "code",
   "execution_count": 45,
   "id": "7fcca900-785c-4fdb-aa0d-6ff0dfb2a145",
   "metadata": {
    "tags": []
   },
   "outputs": [
    {
     "data": {
      "text/plain": [
       "(0.103917, 0.129932)"
      ]
     },
     "execution_count": 45,
     "metadata": {},
     "output_type": "execute_result"
    }
   ],
   "source": [
    "m_rmse(m, xs_imp, y), m_rmse(m, valid_xs_imp, valid_y)"
   ]
  },
  {
   "cell_type": "code",
   "execution_count": 46,
   "id": "c28fbe12-5d25-41d4-8517-26673db52f6e",
   "metadata": {
    "tags": []
   },
   "outputs": [],
   "source": [
    "xs_final = xs_imp\n",
    "valid_xs_final = valid_xs_imp "
   ]
  },
  {
   "cell_type": "code",
   "execution_count": 47,
   "id": "6600918f-5b15-4d42-8a6a-057902d87596",
   "metadata": {
    "tags": []
   },
   "outputs": [],
   "source": [
    "save_pickle('./xs_final.pkl', xs_final)\n",
    "save_pickle('./valid_xs_final.pkl', valid_xs_final)"
   ]
  },
  {
   "cell_type": "markdown",
   "id": "1dbaca12-c149-46e3-8210-1a981d4923d3",
   "metadata": {},
   "source": [
    "# Final Chosen Features"
   ]
  },
  {
   "cell_type": "code",
   "execution_count": 48,
   "id": "d723d6f6-d253-47d8-ae89-626d09fd95c6",
   "metadata": {
    "tags": []
   },
   "outputs": [],
   "source": [
    "xs = load_pickle('./xs_final.pkl')\n",
    "valid_xs = load_pickle('./valid_xs_final.pkl')"
   ]
  },
  {
   "cell_type": "code",
   "execution_count": 49,
   "id": "4488246d-d4c4-468c-88fe-e89ad323e5f4",
   "metadata": {
    "tags": []
   },
   "outputs": [],
   "source": [
    "# make sure everything is going well\n",
    "m = rf(xs,y)"
   ]
  },
  {
   "cell_type": "code",
   "execution_count": 50,
   "id": "5d9ffc52-0894-4878-bed9-3d6c4f56f0bb",
   "metadata": {
    "tags": []
   },
   "outputs": [
    {
     "data": {
      "text/plain": [
       "(0.103912, 0.129486)"
      ]
     },
     "execution_count": 50,
     "metadata": {},
     "output_type": "execute_result"
    }
   ],
   "source": [
    "m_rmse(m, xs, y), m_rmse(m, valid_xs, valid_y)"
   ]
  },
  {
   "cell_type": "markdown",
   "id": "9e1d92b8-4f83-40e6-96b6-b1b75d0e28f2",
   "metadata": {},
   "source": [
    "# Water Fall \n",
    "\n",
    "how is the `xs` affecting the `y` {pledged}"
   ]
  },
  {
   "cell_type": "code",
   "execution_count": 51,
   "id": "d3d50f32-60d4-4730-944a-1a74ebb8637e",
   "metadata": {
    "tags": []
   },
   "outputs": [
    {
     "name": "stdout",
     "output_type": "stream",
     "text": [
      "\u001b[33mWARNING: Running pip as the 'root' user can result in broken permissions and conflicting behaviour with the system package manager. It is recommended to use a virtual environment instead: https://pip.pypa.io/warnings/venv\u001b[0m\u001b[33m\n",
      "\u001b[0m"
     ]
    }
   ],
   "source": [
    "! pip install treeinterpreter waterfallcharts --quiet"
   ]
  },
  {
   "cell_type": "code",
   "execution_count": 52,
   "id": "133b60cc-a579-48c3-9765-8523d421a572",
   "metadata": {
    "tags": []
   },
   "outputs": [],
   "source": [
    "import warnings\n",
    "warnings.simplefilter('ignore', FutureWarning)\n",
    "\n",
    "from treeinterpreter import treeinterpreter\n",
    "from waterfall_chart import plot as waterfall"
   ]
  },
  {
   "cell_type": "code",
   "execution_count": 53,
   "id": "b0dae41a-64ef-44ee-86c7-0ad98eba3113",
   "metadata": {
    "tags": []
   },
   "outputs": [],
   "source": [
    "row = valid_xs.iloc[:10]\n",
    "prediction,bias,contributions = treeinterpreter.predict(m,row.values)\n"
   ]
  },
  {
   "cell_type": "code",
   "execution_count": 54,
   "id": "ec0c9c99-0f52-404b-98c6-6ddbb8797825",
   "metadata": {
    "tags": []
   },
   "outputs": [
    {
     "data": {
      "text/plain": [
       "(array([9.31779573]), 6.962028425725608, 2.355767301929943)"
      ]
     },
     "execution_count": 54,
     "metadata": {},
     "output_type": "execute_result"
    }
   ],
   "source": [
    "\n",
    "prediction[2],bias[2],contributions[2].sum()"
   ]
  },
  {
   "cell_type": "code",
   "execution_count": 55,
   "id": "fd75b4e0-d83d-4ebb-a167-cc3c719d7ca8",
   "metadata": {
    "tags": []
   },
   "outputs": [
    {
     "data": {
      "image/png": "[encoded data removed]",
      "text/plain": [
       "<Figure size 1000x600 with 1 Axes>"
      ]
     },
     "metadata": {
      "needs_background": "light"
     },
     "output_type": "display_data"
    }
   ],
   "source": [
    "\n",
    "waterfall(\n",
    "  valid_xs.columns, contributions[2], threshold=0.08,\n",
    "  rotation_value=45, formatting='{:.3f}'\n",
    "  );"
   ]
  },
  {
   "cell_type": "markdown",
   "id": "0e1eec31-cd03-45ad-b0fd-8612786c39ac",
   "metadata": {},
   "source": [
    "### Testing The Random forest"
   ]
  },
  {
   "cell_type": "code",
   "execution_count": 56,
   "id": "330f335a-4e5f-4d75-b35d-22836808846a",
   "metadata": {
    "tags": []
   },
   "outputs": [],
   "source": [
    "dl_test = to.dataloaders().test_dl(df_test)\n",
    "xs_test, y_test = dl_test.train.xs, dl_test.train.y\n",
    "xs_test = xs_test[xs.columns.to_list()]"
   ]
  },
  {
   "cell_type": "code",
   "execution_count": 57,
   "id": "4c88c781-2a6e-4614-9666-3e21f0dd0795",
   "metadata": {
    "tags": []
   },
   "outputs": [
    {
     "data": {
      "text/plain": [
       "0.130638"
      ]
     },
     "execution_count": 57,
     "metadata": {},
     "output_type": "execute_result"
    }
   ],
   "source": [
    "m_rmse(m,xs_test, y_test)"
   ]
  },
  {
   "cell_type": "markdown",
   "id": "accd95fe-de7c-4206-a82d-8e77ca3b36e8",
   "metadata": {},
   "source": [
    "we will see what happens when we load the whole dataset"
   ]
  },
  {
   "cell_type": "markdown",
   "id": "ddf56092-4fcf-4c75-a784-414ac8fbffc0",
   "metadata": {},
   "source": [
    "# Neural Network "
   ]
  },
  {
   "cell_type": "code",
   "execution_count": 58,
   "id": "cc4a233e-1168-4a23-bcfd-3af73d471aba",
   "metadata": {
    "tags": []
   },
   "outputs": [],
   "source": [
    "df_nn = df1.copy()\n",
    "df_nn_final = df_nn[xs.columns.to_list() + [dep_var]]"
   ]
  },
  {
   "cell_type": "code",
   "execution_count": 59,
   "id": "44fe0fae-06cd-4fe2-98b7-a7295570d5ba",
   "metadata": {
    "tags": []
   },
   "outputs": [
    {
     "data": {
      "text/plain": [
       "(33202, 7)"
      ]
     },
     "execution_count": 59,
     "metadata": {},
     "output_type": "execute_result"
    }
   ],
   "source": [
    "df_nn_final.shape"
   ]
  },
  {
   "cell_type": "code",
   "execution_count": 60,
   "id": "3c0d3dc8-3db3-4e6a-992e-cdaf9229c906",
   "metadata": {
    "tags": []
   },
   "outputs": [
    {
     "data": {
      "text/plain": [
       "(26562, 6640)"
      ]
     },
     "execution_count": 60,
     "metadata": {},
     "output_type": "execute_result"
    }
   ],
   "source": [
    "# 20% validation set\n",
    "splits = RandomSplitter(valid_pct=0.2,seed=42)(range_of(df_nn_final))\n",
    "len(splits[0]),len(splits[1])"
   ]
  },
  {
   "cell_type": "code",
   "execution_count": 61,
   "id": "f0a6fbbb-65f9-4bfa-afe1-fd2fe16ce859",
   "metadata": {
    "tags": []
   },
   "outputs": [],
   "source": [
    "cont_nn, cat_nn = cont_cat_split(df_nn_final, max_card=9000, dep_var=dep_var)\n",
    "\n",
    "df_nn_final[cat_nn].nunique()\n",
    "\n",
    "procs_nn = [Categorify, FillMissing]\n",
    "to_nn = TabularPandas(df_nn_final, procs_nn, cat_nn,\n",
    "                      cont_nn, splits=splits, y_names=dep_var)\n",
    "\n",
    "\n",
    "# our dataset is 509 , when i use 1024 of course it is empty! \n",
    "dls = to_nn.dataloaders(1024) # since tabular data do not use much GPU RAM"
   ]
  },
  {
   "cell_type": "code",
   "execution_count": 62,
   "id": "c42f9d2d-ffc3-4b5b-ae45-ff356fef0eaa",
   "metadata": {
    "tags": []
   },
   "outputs": [],
   "source": [
    "\n",
    "y = to_nn.train.y"
   ]
  },
  {
   "cell_type": "code",
   "execution_count": 63,
   "id": "9c6fa4a4-8544-4f92-aa99-6718460b706e",
   "metadata": {
    "tags": []
   },
   "outputs": [
    {
     "data": {
      "text/plain": [
       "(2.0794415, 10.996769)"
      ]
     },
     "execution_count": 63,
     "metadata": {},
     "output_type": "execute_result"
    }
   ],
   "source": [
    "y.min(),y.max()"
   ]
  },
  {
   "cell_type": "code",
   "execution_count": 64,
   "id": "afc08806-11c5-413a-aa3c-5e987cad39bc",
   "metadata": {
    "tags": []
   },
   "outputs": [],
   "source": [
    "\n",
    "learn = tabular_learner(dls, y_range=(2,11), layers=[100,50],\n",
    "                        n_out= 1, loss_func=F.mse_loss\n",
    "                        )"
   ]
  },
  {
   "cell_type": "code",
   "execution_count": 65,
   "id": "aca6b42e-ced5-42e2-bc22-e37127eef01a",
   "metadata": {
    "tags": []
   },
   "outputs": [
    {
     "data": {
      "text/plain": [
       "TabularModel(\n",
       "  (embeds): ModuleList(\n",
       "    (0): Embedding(6, 4)\n",
       "    (1): Embedding(71, 17)\n",
       "  )\n",
       "  (emb_drop): Dropout(p=0.0, inplace=False)\n",
       "  (bn_cont): BatchNorm1d(4, eps=1e-05, momentum=0.1, affine=True, track_running_stats=True)\n",
       "  (layers): Sequential(\n",
       "    (0): LinBnDrop(\n",
       "      (0): Linear(in_features=25, out_features=100, bias=False)\n",
       "      (1): ReLU(inplace=True)\n",
       "      (2): BatchNorm1d(100, eps=1e-05, momentum=0.1, affine=True, track_running_stats=True)\n",
       "    )\n",
       "    (1): LinBnDrop(\n",
       "      (0): Linear(in_features=100, out_features=50, bias=False)\n",
       "      (1): ReLU(inplace=True)\n",
       "      (2): BatchNorm1d(50, eps=1e-05, momentum=0.1, affine=True, track_running_stats=True)\n",
       "    )\n",
       "    (2): LinBnDrop(\n",
       "      (0): Linear(in_features=50, out_features=1, bias=True)\n",
       "    )\n",
       "    (3): fastai.layers.SigmoidRange(low=2, high=11)\n",
       "  )\n",
       ")"
      ]
     },
     "execution_count": 65,
     "metadata": {},
     "output_type": "execute_result"
    }
   ],
   "source": [
    "learn.model"
   ]
  },
  {
   "cell_type": "code",
   "execution_count": 66,
   "id": "8ff5b017-e252-43a9-ab5d-03986ff6d903",
   "metadata": {
    "tags": []
   },
   "outputs": [
    {
     "data": {
      "text/html": [
       "\n",
       "<style>\n",
       "    /* Turns off some styling */\n",
       "    progress {\n",
       "        /* gets rid of default border in Firefox and Opera. */\n",
       "        border: none;\n",
       "        /* Needs to be in here for Safari polyfill so background images work as expected. */\n",
       "        background-size: auto;\n",
       "    }\n",
       "    progress:not([value]), progress:not([value])::-webkit-progress-bar {\n",
       "        background: repeating-linear-gradient(45deg, #7e7e7e, #7e7e7e 10px, #5c5c5c 10px, #5c5c5c 20px);\n",
       "    }\n",
       "    .progress-bar-interrupted, .progress-bar-interrupted::-webkit-progress-bar {\n",
       "        background: #F44336;\n",
       "    }\n",
       "</style>\n"
      ],
      "text/plain": [
       "<IPython.core.display.HTML object>"
      ]
     },
     "metadata": {},
     "output_type": "display_data"
    },
    {
     "data": {
      "text/html": [],
      "text/plain": [
       "<IPython.core.display.HTML object>"
      ]
     },
     "metadata": {},
     "output_type": "display_data"
    },
    {
     "data": {
      "text/plain": [
       "SuggestedLRs(valley=0.001737800776027143, slide=0.0002754228771664202)"
      ]
     },
     "execution_count": 66,
     "metadata": {},
     "output_type": "execute_result"
    },
    {
     "data": {
      "image/png": "[encoded data removed]",
      "text/plain": [
       "<Figure size 1000x600 with 1 Axes>"
      ]
     },
     "metadata": {
      "needs_background": "light"
     },
     "output_type": "display_data"
    }
   ],
   "source": [
    "learn.lr_find(suggest_funcs=(valley,slide))"
   ]
  },
  {
   "cell_type": "code",
   "execution_count": 67,
   "id": "162fda12-12ab-4c13-8b95-090d75b3bf05",
   "metadata": {
    "tags": []
   },
   "outputs": [],
   "source": [
    "learn = tabular_learner(dls, y_range=(2,10.99), layers=[50,25,15],\n",
    "                        n_out= 1, loss_func=F.mse_loss\n",
    "                        )"
   ]
  },
  {
   "cell_type": "code",
   "execution_count": 68,
   "id": "b8bcb513-2bc2-4c8b-91f8-774792c2dd88",
   "metadata": {
    "tags": []
   },
   "outputs": [
    {
     "data": {
      "text/html": [
       "\n",
       "<style>\n",
       "    /* Turns off some styling */\n",
       "    progress {\n",
       "        /* gets rid of default border in Firefox and Opera. */\n",
       "        border: none;\n",
       "        /* Needs to be in here for Safari polyfill so background images work as expected. */\n",
       "        background-size: auto;\n",
       "    }\n",
       "    progress:not([value]), progress:not([value])::-webkit-progress-bar {\n",
       "        background: repeating-linear-gradient(45deg, #7e7e7e, #7e7e7e 10px, #5c5c5c 10px, #5c5c5c 20px);\n",
       "    }\n",
       "    .progress-bar-interrupted, .progress-bar-interrupted::-webkit-progress-bar {\n",
       "        background: #F44336;\n",
       "    }\n",
       "</style>\n"
      ],
      "text/plain": [
       "<IPython.core.display.HTML object>"
      ]
     },
     "metadata": {},
     "output_type": "display_data"
    },
    {
     "data": {
      "text/html": [
       "<table border=\"1\" class=\"dataframe\">\n",
       "  <thead>\n",
       "    <tr style=\"text-align: left;\">\n",
       "      <th>epoch</th>\n",
       "      <th>train_loss</th>\n",
       "      <th>valid_loss</th>\n",
       "      <th>time</th>\n",
       "    </tr>\n",
       "  </thead>\n",
       "  <tbody>\n",
       "    <tr>\n",
       "      <td>0</td>\n",
       "      <td>4.339193</td>\n",
       "      <td>3.472715</td>\n",
       "      <td>00:00</td>\n",
       "    </tr>\n",
       "    <tr>\n",
       "      <td>1</td>\n",
       "      <td>3.885254</td>\n",
       "      <td>3.336951</td>\n",
       "      <td>00:00</td>\n",
       "    </tr>\n",
       "    <tr>\n",
       "      <td>2</td>\n",
       "      <td>3.124908</td>\n",
       "      <td>2.342419</td>\n",
       "      <td>00:00</td>\n",
       "    </tr>\n",
       "    <tr>\n",
       "      <td>3</td>\n",
       "      <td>2.470230</td>\n",
       "      <td>1.754872</td>\n",
       "      <td>00:00</td>\n",
       "    </tr>\n",
       "    <tr>\n",
       "      <td>4</td>\n",
       "      <td>1.960872</td>\n",
       "      <td>1.434215</td>\n",
       "      <td>00:00</td>\n",
       "    </tr>\n",
       "    <tr>\n",
       "      <td>5</td>\n",
       "      <td>1.597959</td>\n",
       "      <td>1.166603</td>\n",
       "      <td>00:00</td>\n",
       "    </tr>\n",
       "    <tr>\n",
       "      <td>6</td>\n",
       "      <td>1.334189</td>\n",
       "      <td>1.144812</td>\n",
       "      <td>00:00</td>\n",
       "    </tr>\n",
       "    <tr>\n",
       "      <td>7</td>\n",
       "      <td>1.162897</td>\n",
       "      <td>1.079761</td>\n",
       "      <td>00:00</td>\n",
       "    </tr>\n",
       "    <tr>\n",
       "      <td>8</td>\n",
       "      <td>1.039377</td>\n",
       "      <td>0.990793</td>\n",
       "      <td>00:00</td>\n",
       "    </tr>\n",
       "    <tr>\n",
       "      <td>9</td>\n",
       "      <td>0.967959</td>\n",
       "      <td>1.044557</td>\n",
       "      <td>00:00</td>\n",
       "    </tr>\n",
       "  </tbody>\n",
       "</table>"
      ],
      "text/plain": [
       "<IPython.core.display.HTML object>"
      ]
     },
     "metadata": {},
     "output_type": "display_data"
    }
   ],
   "source": [
    "learn.fit_one_cycle(10, 1e-4,wd=0.01) # weight decay"
   ]
  },
  {
   "cell_type": "code",
   "execution_count": 69,
   "id": "5cc6b3a1-9ff1-40c7-9d50-ca36474d11ff",
   "metadata": {
    "tags": []
   },
   "outputs": [
    {
     "data": {
      "text/html": [
       "\n",
       "<style>\n",
       "    /* Turns off some styling */\n",
       "    progress {\n",
       "        /* gets rid of default border in Firefox and Opera. */\n",
       "        border: none;\n",
       "        /* Needs to be in here for Safari polyfill so background images work as expected. */\n",
       "        background-size: auto;\n",
       "    }\n",
       "    progress:not([value]), progress:not([value])::-webkit-progress-bar {\n",
       "        background: repeating-linear-gradient(45deg, #7e7e7e, #7e7e7e 10px, #5c5c5c 10px, #5c5c5c 20px);\n",
       "    }\n",
       "    .progress-bar-interrupted, .progress-bar-interrupted::-webkit-progress-bar {\n",
       "        background: #F44336;\n",
       "    }\n",
       "</style>\n"
      ],
      "text/plain": [
       "<IPython.core.display.HTML object>"
      ]
     },
     "metadata": {},
     "output_type": "display_data"
    },
    {
     "data": {
      "text/html": [],
      "text/plain": [
       "<IPython.core.display.HTML object>"
      ]
     },
     "metadata": {},
     "output_type": "display_data"
    },
    {
     "data": {
      "text/plain": [
       "1.022036"
      ]
     },
     "execution_count": 69,
     "metadata": {},
     "output_type": "execute_result"
    }
   ],
   "source": [
    "preds, targets = learn.get_preds()\n",
    "\n",
    "r_mse(preds, targets)"
   ]
  },
  {
   "cell_type": "markdown",
   "id": "83603d1e-6970-440c-9851-384ce0a867a4",
   "metadata": {},
   "source": [
    "# using the XGboost"
   ]
  },
  {
   "cell_type": "code",
   "execution_count": 70,
   "id": "29e716be-710a-4628-8dee-9380ed00a294",
   "metadata": {
    "tags": []
   },
   "outputs": [],
   "source": [
    "from xgboost import XGBRegressor"
   ]
  },
  {
   "cell_type": "code",
   "execution_count": 83,
   "id": "6596669b-32b4-4951-a490-ef23ae34a36a",
   "metadata": {
    "tags": []
   },
   "outputs": [],
   "source": [
    "to = load_pickle('./to_event.pkl')\n",
    "y = to.train.y\n",
    "valid_y = to.valid.y\n",
    "xs = load_pickle('./xs_final.pkl')\n",
    "valid_xs = load_pickle('./valid_xs_final.pkl')"
   ]
  },
  {
   "cell_type": "code",
   "execution_count": 72,
   "id": "8bf06be0-286c-4cac-9a3d-76bc39e84df9",
   "metadata": {
    "tags": []
   },
   "outputs": [],
   "source": [
    "def xgboost(xs,y,learning_rate=0.3, n_estimators=700,\n",
    "                  max_depth=10, subsample=0.9, colsample_bytree=0.7,min_child_weight=3,**params):\n",
    "      return XGBRegressor(random_state=42, n_jobs=-1, \n",
    "                       learning_rate= learning_rate, n_estimators= n_estimators,\n",
    "                       max_depth=max_depth, subsample=subsample, colsample_bytree=colsample_bytree,\n",
    "                       min_child_weight = min_child_weight, device='cuda').fit(xs,y)"
   ]
  },
  {
   "cell_type": "code",
   "execution_count": 73,
   "id": "e2ce7dba-82bb-4cd6-8dd4-f1d9a047237c",
   "metadata": {
    "tags": []
   },
   "outputs": [],
   "source": [
    "m_rf = rf(xs,y)"
   ]
  },
  {
   "cell_type": "code",
   "execution_count": 74,
   "id": "324f5819-282d-49ac-8b5f-91e3234476f1",
   "metadata": {
    "tags": []
   },
   "outputs": [
    {
     "name": "stdout",
     "output_type": "stream",
     "text": [
      "[04:47:26] WARNING: ../src/learner.cc:767: \n",
      "Parameters: { \"device\" } are not used.\n",
      "\n"
     ]
    }
   ],
   "source": [
    "# i think we can do better\n",
    "# use more trees\n",
    "xgb = xgboost(xs, y, learning_rate=0.1,\n",
    "              n_estimators=5000, colsample_bytree=0.7, subsample=0.7,\n",
    "              max_depth=2, min_child_weight=3)"
   ]
  },
  {
   "cell_type": "code",
   "execution_count": 75,
   "id": "7e6ad96e-9239-46af-8229-69f0b0e15bdd",
   "metadata": {
    "tags": []
   },
   "outputs": [],
   "source": [
    "preds_xgb = xgb.predict(valid_xs)\n",
    "preds_rf = m_rf.predict(valid_xs)"
   ]
  },
  {
   "cell_type": "code",
   "execution_count": 76,
   "id": "67c6a632-b548-489a-b79d-4dd616156ffe",
   "metadata": {
    "tags": []
   },
   "outputs": [
    {
     "data": {
      "text/plain": [
       "(0.129206, 0.05218)"
      ]
     },
     "execution_count": 76,
     "metadata": {},
     "output_type": "execute_result"
    }
   ],
   "source": [
    "r_mse(preds_rf,valid_y),r_mse(preds_xgb,valid_y)"
   ]
  },
  {
   "cell_type": "markdown",
   "id": "60136d28-83a0-430f-87fb-ddfe11e7c04e",
   "metadata": {},
   "source": [
    "# Testing XGBOOST"
   ]
  },
  {
   "cell_type": "code",
   "execution_count": 77,
   "id": "51fba428-f856-4fdc-a055-dc44b3eaddf3",
   "metadata": {
    "tags": []
   },
   "outputs": [],
   "source": [
    "# TESTING THE BOOSTING AND BAGGING METHODS\n",
    "\n",
    "\n",
    "dl_test = to.dataloaders().test_dl(df_test)\n",
    "xs_test, y_test = dl_test.train.xs, dl_test.train.y\n",
    "xs_test = xs_test[xs.columns.to_list()]"
   ]
  },
  {
   "cell_type": "code",
   "execution_count": null,
   "id": "4968c94e-1ae2-4dde-9d5e-05bc34045f22",
   "metadata": {},
   "outputs": [],
   "source": []
  },
  {
   "cell_type": "code",
   "execution_count": 78,
   "id": "17f9d383-6dcd-46a5-8c5b-08b927eb5034",
   "metadata": {
    "tags": []
   },
   "outputs": [
    {
     "name": "stdout",
     "output_type": "stream",
     "text": [
      "Random Forest Test Result: 0.129213  || XGBOOST Test Result: 0.034759 \n"
     ]
    }
   ],
   "source": [
    "RF_test = m_rmse(m_rf, xs_test, y_test)\n",
    "XBG_test = m_rmse(xgb, xs_test, y_test)\n",
    "\n",
    "\n",
    "\n",
    "print(f'Random Forest Test Result: { RF_test  }  || XGBOOST Test Result: { XBG_test } ')"
   ]
  },
  {
   "cell_type": "code",
   "execution_count": 79,
   "id": "d085a23c-0c83-418d-a652-be42b69db8dc",
   "metadata": {
    "tags": []
   },
   "outputs": [],
   "source": [
    "pred_rf = m_rf.predict(xs_test)\n",
    "pred_xgb = xgb.predict(xs_test)"
   ]
  },
  {
   "cell_type": "code",
   "execution_count": 80,
   "id": "c59db396-05a6-453b-ac59-e3f04bfd39ab",
   "metadata": {
    "tags": []
   },
   "outputs": [
    {
     "data": {
      "text/plain": [
       "0.071409"
      ]
     },
     "execution_count": 80,
     "metadata": {},
     "output_type": "execute_result"
    }
   ],
   "source": [
    "combined_preds = [pred_rf, pred_xgb]\n",
    "preds  = np.stack(combined_preds).mean(0)\n",
    "r_mse(preds,y_test)"
   ]
  },
  {
   "cell_type": "code",
   "execution_count": 81,
   "id": "25e89572-e892-4458-8f81-ecf7ae05f538",
   "metadata": {
    "tags": []
   },
   "outputs": [
    {
     "name": "stdout",
     "output_type": "stream",
     "text": [
      "Weighted Ensemble RMSLE: 0.037013\n"
     ]
    }
   ],
   "source": [
    "combined_predictions = [\n",
    "    pred_rf * 0.1,\n",
    "    pred_xgb * 0.89999999,\n",
    "]\n",
    "\n",
    "# Compute the weighted average\n",
    "preds_weighted = np.sum(combined_predictions, axis=0)\n",
    "\n",
    "# Calculate RMSLE of the ensemble\n",
    "ensemble_rmsle = r_mse(preds_weighted, y_test)\n",
    "print(f\"Weighted Ensemble RMSLE: {ensemble_rmsle}\")"
   ]
  },
  {
   "cell_type": "markdown",
   "id": "a8bcf405-6bc2-4917-816e-fa6a35c3b62c",
   "metadata": {},
   "source": [
    "Wonderful results 😆"
   ]
  },
  {
   "cell_type": "markdown",
   "id": "b83b776b-d89d-451b-84f1-4faab8754c85",
   "metadata": {},
   "source": [
    "# using the Learners, One prediction"
   ]
  },
  {
   "cell_type": "code",
   "execution_count": 105,
   "id": "bd1e9f38-0491-46a2-9636-724b7f622855",
   "metadata": {
    "tags": []
   },
   "outputs": [
    {
     "data": {
      "text/plain": [
       "Index(['name', 'url', 'category', 'subcategory', 'location', 'status', 'goal',\n",
       "       'pledged', 'funded percentage', 'backers', 'funded date', 'levels',\n",
       "       'updates', 'comments', 'duration', 'year', 'level_0'],\n",
       "      dtype='object')"
      ]
     },
     "execution_count": 105,
     "metadata": {},
     "output_type": "execute_result"
    }
   ],
   "source": [
    "df1.columns"
   ]
  },
  {
   "cell_type": "code",
   "execution_count": 116,
   "id": "dc6d1458-5793-4298-8e68-81649549db01",
   "metadata": {
    "tags": []
   },
   "outputs": [],
   "source": [
    "categories = list(df1['category'].unique())\n",
    "sub_cat = list(df1['subcategory'].unique())\n",
    "loc = list(df1['location'].unique())\n",
    "stat = list(df1['status'].unique())\n",
    "\n"
   ]
  },
  {
   "cell_type": "markdown",
   "id": "e1b41824-94e4-431d-8594-fb0c28a53758",
   "metadata": {},
   "source": [
    "# GUI"
   ]
  },
  {
   "cell_type": "code",
   "execution_count": 117,
   "id": "70b9458d-1f56-4ff4-a5a3-47839e244bf2",
   "metadata": {
    "tags": []
   },
   "outputs": [
    {
     "data": {
      "application/vnd.jupyter.widget-view+json": {
       "model_id": "6de45a3f560e430fa74e0908b3f52fb0",
       "version_major": 2,
       "version_minor": 0
      },
      "text/plain": [
       "Text(value='Point of Descent', description='Name:')"
      ]
     },
     "metadata": {},
     "output_type": "display_data"
    },
    {
     "data": {
      "application/vnd.jupyter.widget-view+json": {
       "model_id": "6538b2a7bbcc4b4c9067a24f5ffcc313",
       "version_major": 2,
       "version_minor": 0
      },
      "text/plain": [
       "Dropdown(description='Category:', index=1, options=('Film & Video', 'Games', 'Fashion', 'Art', 'Technology', '…"
      ]
     },
     "metadata": {},
     "output_type": "display_data"
    },
    {
     "data": {
      "application/vnd.jupyter.widget-view+json": {
       "model_id": "6ba1246f003143b286d2e10d11917f77",
       "version_major": 2,
       "version_minor": 0
      },
      "text/plain": [
       "Dropdown(description='subcategory:', index=18, options=('Short Film', 'Board & Card Games', 'Animation', 'Fash…"
      ]
     },
     "metadata": {},
     "output_type": "display_data"
    },
    {
     "data": {
      "application/vnd.jupyter.widget-view+json": {
       "model_id": "1b190c7db5ac4cda807bf9477aa1b687",
       "version_major": 2,
       "version_minor": 0
      },
      "text/plain": [
       "FloatText(value=2500.0, description='Goal:')"
      ]
     },
     "metadata": {},
     "output_type": "display_data"
    },
    {
     "data": {
      "application/vnd.jupyter.widget-view+json": {
       "model_id": "cc500e0526854736b5b6938c3b4328a4",
       "version_major": 2,
       "version_minor": 0
      },
      "text/plain": [
       "Dropdown(description='location:', options=('Columbia, MO', 'Maplewood, NJ', 'Los Angeles, CA', 'Portland, OR',…"
      ]
     },
     "metadata": {},
     "output_type": "display_data"
    },
    {
     "data": {
      "application/vnd.jupyter.widget-view+json": {
       "model_id": "f8b16c1c6a884f2ab85030f717f2e152",
       "version_major": 2,
       "version_minor": 0
      },
      "text/plain": [
       "Dropdown(description='status:', options=('successful', 'failed', 'live', 'canceled', 'suspended'), value='succ…"
      ]
     },
     "metadata": {},
     "output_type": "display_data"
    },
    {
     "data": {
      "application/vnd.jupyter.widget-view+json": {
       "model_id": "704405fe713f4869a2939410b0356de5",
       "version_major": 2,
       "version_minor": 0
      },
      "text/plain": [
       "FloatText(value=1.038, description='funded percentage:')"
      ]
     },
     "metadata": {},
     "output_type": "display_data"
    },
    {
     "data": {
      "application/vnd.jupyter.widget-view+json": {
       "model_id": "eacd20035cd04110b973171e35f3e00f",
       "version_major": 2,
       "version_minor": 0
      },
      "text/plain": [
       "FloatText(value=21.0, description='backers:')"
      ]
     },
     "metadata": {},
     "output_type": "display_data"
    },
    {
     "data": {
      "application/vnd.jupyter.widget-view+json": {
       "model_id": "9f0641b8688d4d9b94ff7c35f7b8835d",
       "version_major": 2,
       "version_minor": 0
      },
      "text/plain": [
       "FloatText(value=8.0, description='levels:')"
      ]
     },
     "metadata": {},
     "output_type": "display_data"
    },
    {
     "data": {
      "application/vnd.jupyter.widget-view+json": {
       "model_id": "a2ce6ffd69af412da2ad528da13f2f40",
       "version_major": 2,
       "version_minor": 0
      },
      "text/plain": [
       "FloatText(value=6.0, description='updates:')"
      ]
     },
     "metadata": {},
     "output_type": "display_data"
    },
    {
     "data": {
      "application/vnd.jupyter.widget-view+json": {
       "model_id": "739f81593101406793b6e12dfeaa0daf",
       "version_major": 2,
       "version_minor": 0
      },
      "text/plain": [
       "FloatText(value=3.0, description='comments:')"
      ]
     },
     "metadata": {},
     "output_type": "display_data"
    },
    {
     "data": {
      "application/vnd.jupyter.widget-view+json": {
       "model_id": "820d2fd73bd447fab60f6b700ad73f88",
       "version_major": 2,
       "version_minor": 0
      },
      "text/plain": [
       "FloatText(value=91.0, description='duration:')"
      ]
     },
     "metadata": {},
     "output_type": "display_data"
    },
    {
     "data": {
      "application/vnd.jupyter.widget-view+json": {
       "model_id": "67008e26ff2b4b939385a7884e90ce19",
       "version_major": 2,
       "version_minor": 0
      },
      "text/plain": [
       "Output()"
      ]
     },
     "metadata": {},
     "output_type": "display_data"
    },
    {
     "data": {
      "application/vnd.jupyter.widget-view+json": {
       "model_id": "0f6ad2a69d02416abf51602aa7a28aa5",
       "version_major": 2,
       "version_minor": 0
      },
      "text/plain": [
       "Button(button_style='success', description='Save Changes', style=ButtonStyle())"
      ]
     },
     "metadata": {},
     "output_type": "display_data"
    }
   ],
   "source": [
    "import ipywidgets as widgets\n",
    "from IPython.display import display, clear_output\n",
    "\n",
    "# Create input fields\n",
    "\n",
    "name = widgets.Text(value=\"Point of Descent\", description=\"Name:\")\n",
    "\n",
    "category = widgets.Dropdown(value=categories[1], options=categories ,description=\"Category:\")\n",
    "\n",
    "subcategory = widgets.Dropdown(value=sub_cat[18], options =sub_cat, description=\"subcategory:\")\n",
    "\n",
    "\n",
    "goal = widgets.FloatText(value=2500.0, description=\"Goal:\")\n",
    "\n",
    "location = widgets.Dropdown(value=loc[0],options=loc, description=\"location:\")\n",
    "\n",
    "status = widgets.Dropdown(value=stat[0],options=stat, description=\"status:\")\n",
    "\n",
    "funded_percentage = widgets.FloatText(value=1.038, description=\"funded percentage:\")\n",
    "\n",
    "backers = widgets.FloatText(value=21, description=\"backers:\")\n",
    "\n",
    "\n",
    "levels = widgets.FloatText(value=8, description=\"levels:\")\n",
    "\n",
    "updates = widgets.FloatText(value=6, description=\"updates:\")\n",
    "\n",
    "comments = widgets.FloatText(value=3, description=\"comments:\")\n",
    "\n",
    "duration = widgets.FloatText(value=91.0, description=\"duration:\")\n",
    "\n",
    "\n",
    "# Display widgets\n",
    "display(name, category,subcategory, goal,location, status, funded_percentage, backers, levels, updates, comments, duration)\n",
    "\n",
    "# Output widget for displaying updates\n",
    "output = widgets.Output()\n",
    "display(output)\n",
    "\n",
    "data = {}\n",
    "\n",
    "# Function to save values\n",
    "def save_changes(b):\n",
    "    # python default behavior is to treat the \n",
    "    # variables inside a function as local variables \n",
    "    # unless explicitly specified as global \n",
    "    global data\n",
    "    # display(name, category, goal,location, status, funded_percentage, backers, funded_date, levels, updates, comments, duration)\n",
    "    data = {\n",
    "        \"project id\": 2623100,\n",
    "        \"name\": name.value,\n",
    "        \"url\": \"http://www.kickstarter.com/projects/bmag-games/point-of-descent\",\n",
    "        \"category\": category.value,\n",
    "        \"subcategory\": subcategory.value,\n",
    "        \"location\": location.value,\n",
    "        \"status\": status.value,\n",
    "        \"goal\": goal.value,\n",
    "        \"pledged\": 2595.0,\n",
    "        \"funded percentage\": funded_percentage.value,\n",
    "        \"backers\": backers.value,\n",
    "        \"funded date\": \"Sat, 25 Jun 2011 15:54:12 -0000\",\n",
    "        \"levels\": levels.value,\n",
    "        \"reward levels\": \"5, 10, 25, 25, 100, 100, 500, 500\",\n",
    "        \"updates\": updates.value,\n",
    "        \"comments\": comments.value,\n",
    "        \"duration\": duration.value,\n",
    "        \"reward levels\" : \"$5,$10,$25,$25,$100,$100,$500,$500\"\n",
    "        \n",
    "    }\n",
    "\n",
    "# Save button\n",
    "save_button = widgets.Button(description=\"Save Changes\", button_style='success')\n",
    "save_button.on_click(save_changes)\n",
    "display(save_button)"
   ]
  },
  {
   "cell_type": "code",
   "execution_count": 119,
   "id": "ec0119cc-c3ab-4005-b36d-24cf5ec72f89",
   "metadata": {
    "tags": []
   },
   "outputs": [
    {
     "data": {
      "text/plain": [
       "{'project id': 2623100,\n",
       " 'name': 'Point of Descent',\n",
       " 'url': 'http://www.kickstarter.com/projects/bmag-games/point-of-descent',\n",
       " 'category': 'Games',\n",
       " 'subcategory': 'Video Games',\n",
       " 'location': 'Columbia, MO',\n",
       " 'status': 'suspended',\n",
       " 'goal': 2500.0,\n",
       " 'pledged': 2595.0,\n",
       " 'funded percentage': 1.038,\n",
       " 'backers': 21.0,\n",
       " 'funded date': 'Sat, 25 Jun 2011 15:54:12 -0000',\n",
       " 'levels': 8.0,\n",
       " 'reward levels': '$5,$10,$25,$25,$100,$100,$500,$500',\n",
       " 'updates': 6.0,\n",
       " 'comments': 3.0,\n",
       " 'duration': 91.0}"
      ]
     },
     "execution_count": 119,
     "metadata": {},
     "output_type": "execute_result"
    }
   ],
   "source": [
    "data"
   ]
  },
  {
   "cell_type": "markdown",
   "id": "660c2cef-88dc-4bb1-9c64-344638ccb8d4",
   "metadata": {},
   "source": [
    "## Converting the single prediction into a dataframe"
   ]
  },
  {
   "cell_type": "code",
   "execution_count": 115,
   "id": "fc6c0738-616d-4ae6-8e23-c77208866ed4",
   "metadata": {},
   "outputs": [],
   "source": [
    "df = pd.DataFrame([data])"
   ]
  },
  {
   "cell_type": "code",
   "execution_count": 116,
   "id": "12b78f7b-ea1f-4a6c-b3dc-eb44201b859c",
   "metadata": {
    "tags": []
   },
   "outputs": [
    {
     "name": "stdout",
     "output_type": "stream",
     "text": [
      "nan\n",
      "nan\n",
      "nan\n",
      "Number of outliers: 0\n",
      "nan\n",
      "Number of outliers: 0\n",
      "nan\n",
      "Number of outliers: 0\n",
      "nan\n"
     ]
    }
   ],
   "source": [
    "df = all_data_preprocessing(df)"
   ]
  },
  {
   "cell_type": "code",
   "execution_count": 117,
   "id": "3ad73fca-7b9e-44c3-9472-f03a52122012",
   "metadata": {
    "tags": []
   },
   "outputs": [],
   "source": [
    "def one_prediction(df):\n",
    "    dl_test = to.dataloaders().test_dl(df)\n",
    "    xs_test, y_test = dl_test.train.xs, dl_test.train.y\n",
    "    xs_test = xs_test[xs.columns.to_list()]\n",
    "    return xs_test"
   ]
  },
  {
   "cell_type": "code",
   "execution_count": 118,
   "id": "1ec09104-1a6b-4839-834e-0f26887e4998",
   "metadata": {
    "tags": []
   },
   "outputs": [
    {
     "data": {
      "text/html": [
       "<div>\n",
       "<style scoped>\n",
       "    .dataframe tbody tr th:only-of-type {\n",
       "        vertical-align: middle;\n",
       "    }\n",
       "\n",
       "    .dataframe tbody tr th {\n",
       "        vertical-align: top;\n",
       "    }\n",
       "\n",
       "    .dataframe thead th {\n",
       "        text-align: right;\n",
       "    }\n",
       "</style>\n",
       "<table border=\"1\" class=\"dataframe\">\n",
       "  <thead>\n",
       "    <tr style=\"text-align: right;\">\n",
       "      <th></th>\n",
       "      <th>name</th>\n",
       "      <th>url</th>\n",
       "      <th>category</th>\n",
       "      <th>subcategory</th>\n",
       "      <th>location</th>\n",
       "      <th>status</th>\n",
       "      <th>goal</th>\n",
       "      <th>pledged</th>\n",
       "      <th>funded percentage</th>\n",
       "      <th>backers</th>\n",
       "      <th>funded date</th>\n",
       "      <th>levels</th>\n",
       "      <th>updates</th>\n",
       "      <th>comments</th>\n",
       "      <th>duration</th>\n",
       "      <th>year</th>\n",
       "      <th>level_0</th>\n",
       "    </tr>\n",
       "  </thead>\n",
       "  <tbody>\n",
       "    <tr>\n",
       "      <th>0</th>\n",
       "      <td>Point of Descent</td>\n",
       "      <td>http://www.kickstarter.com/projects/bmag-games/point-of-descent</td>\n",
       "      <td>Games</td>\n",
       "      <td>Video Games</td>\n",
       "      <td>Nanuet, NY</td>\n",
       "      <td>failed</td>\n",
       "      <td>7.427144</td>\n",
       "      <td>7.861727</td>\n",
       "      <td>0.181548</td>\n",
       "      <td>2.079442</td>\n",
       "      <td>2011-06-25 15:54:12+00:00</td>\n",
       "      <td>9.0</td>\n",
       "      <td>5.0</td>\n",
       "      <td>1.098612</td>\n",
       "      <td>45.0</td>\n",
       "      <td>2011</td>\n",
       "      <td>1.791759</td>\n",
       "    </tr>\n",
       "  </tbody>\n",
       "</table>\n",
       "</div>"
      ],
      "text/plain": [
       "               name  \\\n",
       "0  Point of Descent   \n",
       "\n",
       "                                                               url category  \\\n",
       "0  http://www.kickstarter.com/projects/bmag-games/point-of-descent    Games   \n",
       "\n",
       "   subcategory    location  status      goal   pledged  funded percentage  \\\n",
       "0  Video Games  Nanuet, NY  failed  7.427144  7.861727           0.181548   \n",
       "\n",
       "    backers               funded date  levels  updates  comments  duration  \\\n",
       "0  2.079442 2011-06-25 15:54:12+00:00     9.0      5.0  1.098612      45.0   \n",
       "\n",
       "   year   level_0  \n",
       "0  2011  1.791759  "
      ]
     },
     "execution_count": 118,
     "metadata": {},
     "output_type": "execute_result"
    }
   ],
   "source": [
    "df"
   ]
  },
  {
   "cell_type": "code",
   "execution_count": 119,
   "id": "80615f14-fb58-4ed3-83d5-853c270ec645",
   "metadata": {
    "tags": []
   },
   "outputs": [],
   "source": [
    "xs_test = one_prediction(df)"
   ]
  },
  {
   "cell_type": "code",
   "execution_count": 120,
   "id": "122a673a-a6dc-40ba-8e18-feb5303d50ec",
   "metadata": {
    "tags": []
   },
   "outputs": [
    {
     "name": "stdout",
     "output_type": "stream",
     "text": [
      "[306.48264348]\n",
      "[308.54578]\n",
      "2500.885129513146\n"
     ]
    }
   ],
   "source": [
    "pred_rf = m_rf.predict(xs_test)\n",
    "pred_xgb = xgb.predict(xs_test)\n",
    "print(np.exp(pred_rf))\n",
    "print(np.exp(pred_xgb))\n",
    "\n",
    "print(np.exp(7.8244))"
   ]
  },
  {
   "cell_type": "code",
   "execution_count": 96,
   "id": "887b41b3-32c7-4ee6-b031-e61db4a89d2c",
   "metadata": {
    "tags": []
   },
   "outputs": [
    {
     "data": {
      "text/plain": [
       "(0.004132, 0.010372)"
      ]
     },
     "execution_count": 96,
     "metadata": {},
     "output_type": "execute_result"
    }
   ],
   "source": [
    "r_mse(pred_xgb,7.861727),r_mse(pred_rf,7.861727)"
   ]
  },
  {
   "cell_type": "code",
   "execution_count": 97,
   "id": "585f1115-db90-4a91-8aa1-f8412053ce60",
   "metadata": {
    "tags": []
   },
   "outputs": [
    {
     "data": {
      "text/plain": [
       "0.007252"
      ]
     },
     "execution_count": 97,
     "metadata": {},
     "output_type": "execute_result"
    }
   ],
   "source": [
    "combined_preds = [pred_rf, pred_xgb]\n",
    "preds  = np.stack(combined_preds).mean(0)\n",
    "r_mse(preds,7.861727)"
   ]
  },
  {
   "cell_type": "code",
   "execution_count": 98,
   "id": "d7f94935-b2cb-46f2-ae83-76fe9f34b2a6",
   "metadata": {
    "tags": []
   },
   "outputs": [
    {
     "name": "stdout",
     "output_type": "stream",
     "text": [
      "Weighted Ensemble RMSLE: 0.004756\n"
     ]
    }
   ],
   "source": [
    "combined_predictions = [\n",
    "    pred_rf * 0.1,\n",
    "    pred_xgb * 0.89999999,\n",
    "]\n",
    "\n",
    "# Compute the weighted average\n",
    "preds_weighted = np.sum(combined_predictions, axis=0)\n",
    "\n",
    "# Calculate RMSLE of the ensemble\n",
    "ensemble_rmsle = r_mse(preds_weighted, 7.861727)\n",
    "print(f\"Weighted Ensemble RMSLE: {ensemble_rmsle}\")"
   ]
  },
  {
   "cell_type": "code",
   "execution_count": 112,
   "id": "31676d89-4434-4468-9fc5-999f907a2121",
   "metadata": {
    "tags": []
   },
   "outputs": [],
   "source": [
    "def final_one_prediction(df):\n",
    "    xs_test = one_prediction(df)\n",
    "    pred_rf = m_rf.predict(xs_test)\n",
    "    pred_xgb = xgb.predict(xs_test)\n",
    "    combined_predictions = [\n",
    "    pred_rf * 0.1,\n",
    "    pred_xgb * 0.89999999,\n",
    "        ]\n",
    "\n",
    "    # Compute the weighted average\n",
    "    preds_weighted = np.sum(combined_predictions, axis=0)\n",
    "\n",
    "    print(f'Predicted Pledged: $ {np.exp(preds_weighted[0]):.2f}')\n"
   ]
  },
  {
   "cell_type": "code",
   "execution_count": 113,
   "id": "8a4e29fa-5e71-4615-86b7-0b6a43b64e10",
   "metadata": {
    "tags": []
   },
   "outputs": [
    {
     "name": "stdout",
     "output_type": "stream",
     "text": [
      "Predicted Pledged: $ 2608.38\n"
     ]
    }
   ],
   "source": [
    "final_one_prediction(df)"
   ]
  },
  {
   "cell_type": "markdown",
   "id": "1d5fc306-5fba-4cf4-bae1-6a4791c7dcfd",
   "metadata": {},
   "source": [
    "# Notes: \n",
    "-  joblib file \n",
    "- select options for category, subcategory \n",
    "- run it all :)\n"
   ]
  },
  {
   "cell_type": "code",
   "execution_count": 120,
   "id": "101eeb62-203e-443d-8d42-7faaa4681d28",
   "metadata": {
    "tags": []
   },
   "outputs": [
    {
     "data": {
      "text/plain": [
       "(RandomForestRegressor(max_features=0.5, max_samples=26562, min_samples_leaf=4,\n",
       "                       n_estimators=500, n_jobs=-1, oob_score=True),\n",
       " XGBRegressor(base_score=None, booster=None, callbacks=None,\n",
       "              colsample_bylevel=None, colsample_bynode=None,\n",
       "              colsample_bytree=0.7, device='cuda', early_stopping_rounds=None,\n",
       "              enable_categorical=False, eval_metric=None, feature_types=None,\n",
       "              gamma=None, gpu_id=None, grow_policy=None, importance_type=None,\n",
       "              interaction_constraints=None, learning_rate=0.1, max_bin=None,\n",
       "              max_cat_threshold=None, max_cat_to_onehot=None,\n",
       "              max_delta_step=None, max_depth=2, max_leaves=None,\n",
       "              min_child_weight=3, missing=nan, monotone_constraints=None,\n",
       "              n_estimators=5000, n_jobs=-1, num_parallel_tree=None,\n",
       "              predictor=None, ...))"
      ]
     },
     "execution_count": 120,
     "metadata": {},
     "output_type": "execute_result"
    }
   ],
   "source": [
    "m_rf,xgb"
   ]
  },
  {
   "cell_type": "markdown",
   "id": "95d06f29-d7a5-486e-8d0a-65708e20b60d",
   "metadata": {},
   "source": [
    "# Export the Models to use them locally"
   ]
  },
  {
   "cell_type": "code",
   "execution_count": 122,
   "id": "e3126ec7-0678-4eb2-8c19-4e604a2540cb",
   "metadata": {
    "tags": []
   },
   "outputs": [],
   "source": [
    "import joblib\n",
    "export_data = dict(\n",
    "  xgb = xgb,\n",
    "  rf = m_rf\n",
    ")\n",
    "\n",
    "expect_pledge= export_data\n",
    "\n"
   ]
  },
  {
   "cell_type": "code",
   "execution_count": 123,
   "id": "91e18f74-e0a3-4acf-a8a3-3dd563877def",
   "metadata": {
    "tags": []
   },
   "outputs": [
    {
     "data": {
      "text/plain": [
       "['event_pledged.joblib']"
      ]
     },
     "execution_count": 123,
     "metadata": {},
     "output_type": "execute_result"
    }
   ],
   "source": [
    "joblib.dump(expect_pledge,'event_pledged.joblib')"
   ]
  },
  {
   "cell_type": "markdown",
   "id": "9b6a74cc-1836-4746-b9ef-8e6ddc01b01f",
   "metadata": {},
   "source": [
    "# Load the Models"
   ]
  },
  {
   "cell_type": "code",
   "execution_count": 128,
   "id": "ba935100-9b96-4fb0-8062-3d50b523cbae",
   "metadata": {
    "tags": []
   },
   "outputs": [],
   "source": [
    "\n",
    "data = joblib.load(\"event_pledged.joblib\")\n",
    "\n",
    "\n",
    "rf = data['rf']\n",
    "xgbR = data['xgb']"
   ]
  }
 ],
 "metadata": {
  "kernelspec": {
   "display_name": "Python 3 (ipykernel)",
   "language": "python",
   "name": "python3"
  },
  "language_info": {
   "codemirror_mode": {
    "name": "ipython",
    "version": 3
   },
   "file_extension": ".py",
   "mimetype": "text/x-python",
   "name": "python",
   "nbconvert_exporter": "python",
   "pygments_lexer": "ipython3",
   "version": "3.11.7"
  }
 },
 "nbformat": 4,
 "nbformat_minor": 5
}
