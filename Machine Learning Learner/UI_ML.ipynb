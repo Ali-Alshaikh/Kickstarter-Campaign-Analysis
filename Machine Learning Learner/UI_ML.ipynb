{
 "cells": [
  {
   "cell_type": "markdown",
   "id": "ce52c1b8-44c8-459c-bb25-9a218e649671",
   "metadata": {},
   "source": [
    "# Imports"
   ]
  },
  {
   "cell_type": "code",
   "execution_count": 1,
   "id": "b724b774-6877-48e6-a0c6-d199f8b80e94",
   "metadata": {
    "jupyter": {
     "source_hidden": true
    },
    "tags": []
   },
   "outputs": [
    {
     "name": "stdout",
     "output_type": "stream",
     "text": [
      "\u001b[33mWARNING: Running pip as the 'root' user can result in broken permissions and conflicting behaviour with the system package manager. It is recommended to use a virtual environment instead: https://pip.pypa.io/warnings/venv\u001b[0m\u001b[33m\n",
      "\u001b[0m"
     ]
    }
   ],
   "source": [
    "! pip install fastai --quiet"
   ]
  },
  {
   "cell_type": "code",
   "execution_count": 2,
   "id": "25dad6a3-903c-4d22-8561-44d55a295552",
   "metadata": {
    "tags": []
   },
   "outputs": [],
   "source": [
    "import pandas as pd, numpy as np\n",
    "from glob import glob\n",
    "import time\n",
    "import os\n",
    "from IPython.display import display, HTML\n",
    "\n",
    "\n",
    "\n",
    "\n",
    "from pandas.api.types import is_string_dtype, is_numeric_dtype, is_categorical_dtype\n",
    "from fastai.tabular.all import *\n",
    "from sklearn.ensemble import RandomForestRegressor\n",
    "from sklearn.tree import DecisionTreeRegressor\n",
    "from IPython.display import Image, display_svg, SVG\n",
    "from fastai.imports import *\n",
    "\n",
    "pd.options.display.max_rows = 20\n",
    "pd.options.display.max_columns = 8\n",
    "pd.set_option('display.max_columns', None)\n",
    "pd.set_option('display.max_rows', 150)\n",
    "matplotlib.rcParams['font.size'] = 14\n",
    "matplotlib.rcParams['figure.figsize'] = (10, 6)\n",
    "matplotlib.rcParams['figure.facecolor'] = '#00000000'"
   ]
  },
  {
   "cell_type": "markdown",
   "id": "9a3ca76a-9ac5-4135-82e4-2fc1828f567f",
   "metadata": {},
   "source": [
    "# All Functions"
   ]
  },
  {
   "cell_type": "code",
   "execution_count": 3,
   "id": "8ba3689b-564a-4cc9-b36a-0a22fd4ac88b",
   "metadata": {
    "tags": []
   },
   "outputs": [],
   "source": [
    "def reward_levels_engineering(df):\n",
    "    df[\"reward levels\"] = df[\"reward levels\"].str.replace(\"$\", \"\", regex=False)\n",
    "    df_split = df[\"reward levels\"].str.split(\",\", expand=True)[[0]]\n",
    "    df_split.columns = ['level_0']\n",
    "    df_split = df_split.fillna(\"0\")\n",
    "    df_split = df_split.astype(int)\n",
    "    df = df.join(df_split)\n",
    "    return df\n",
    "\n",
    "\n",
    "def load_df_and_clean(df):\n",
    "    df = df.drop(columns=['project id'])\n",
    "    df = df[df.levels <= 11]\n",
    "    f = df.comments <= 1000\n",
    "    df = df[f]\n",
    "    df['funded date'] = pd.to_datetime(df['funded date'])\n",
    "    df['year'] = df['funded date'].dt.year\n",
    "    df = reward_levels_engineering(df) # apply necessary feature engineering for the reward levels\n",
    "    return df    \n",
    "\n",
    "# make a log transformation quickly and efficiently\n",
    "def log_transform(df,col):\n",
    "    df[col]= np.log1p(df[col])\n",
    "    # print(df[col].skew())\n",
    "    \n",
    "def set_range_col(df,col,l,r):\n",
    "    # very cool state of the pledged money raised\n",
    "    df =  df[(df[col] >= l) & (df[col] <= r)]\n",
    "    # print( df[(df[col] >= l) & (df[col] <= r)][col].skew())\n",
    "    return df\n",
    "\n",
    "def deal_with_outliers(df,col):\n",
    "    Q1 = df[col].quantile(0.25)  # 25th percentile\n",
    "    Q3 = df[col].quantile(0.75)  # 75th percentile\n",
    "    IQR = Q3 - Q1                      # Interquartile range\n",
    "\n",
    "    lower_bound = Q1 - 1.5 * IQR\n",
    "    upper_bound = Q3 + 1.5 * IQR\n",
    "    upper_bound = np.ceil(upper_bound)\n",
    "    outliers = df[(df[col] < lower_bound) | (df[col] > upper_bound)]\n",
    "    # print(f\"Number of outliers: {len(outliers)}\")\n",
    "\n",
    "    df.loc[df[col] > upper_bound, col] = upper_bound\n",
    "\n",
    "def drop_columns(df,cols = []):\n",
    "    if cols: \n",
    "        df = df.drop(columns=cols)\n",
    "    return df\n",
    "\n",
    "def all_data_preprocessing(df):\n",
    "    df = load_df_and_clean(df)\n",
    "    \n",
    "    dep_var = 'pledged'\n",
    "    log_transform(df,'pledged')\n",
    "    df = set_range_col(df,'pledged',2,11)\n",
    "\n",
    "    log_transform(df,'goal')\n",
    "    \n",
    "    deal_with_outliers(df,'backers')\n",
    "\n",
    "    log_transform(df,'backers')\n",
    "    \n",
    "    deal_with_outliers(df,'comments')\n",
    "\n",
    "    log_transform(df,'comments')\n",
    "    \n",
    "    deal_with_outliers(df,'level_0')\n",
    "    \n",
    "    log_transform(df,'level_0') # shall we log transform it ? \n",
    "    \n",
    "    df = drop_columns(df,cols=['reward levels'])\n",
    "    \n",
    "    return df\n",
    "\n",
    "def train_test_split(df):\n",
    "    total = df.shape[0]\n",
    "    testing_portion = int(total * 0.05)\n",
    "    \n",
    "    # the splits\n",
    "    training_data = total - testing_portion\n",
    "    test_data = training_data + testing_portion\n",
    "\n",
    "\n",
    "    df1 = df[:training_data]\n",
    "    df_test = df[training_data:test_data]\n",
    "    return df1, df_test\n",
    "\n",
    "# it is good to make your loss function from scratch for you to see how math's\n",
    "# will be directly implemented inside the work that you have at hand\n",
    "# let's make the rmse\n",
    "\n",
    "import math\n",
    "def r_mse(pred, y): return round(math.sqrt(((pred-y)**2).mean()), 6)\n",
    "def m_rmse(m,xs,y): return r_mse(m.predict(xs),y)\n",
    "\n",
    "\n",
    "def one_prediction(df):\n",
    "    dl_test = to.dataloaders().test_dl(df)\n",
    "    xs_test, y_test = dl_test.train.xs, dl_test.train.y\n",
    "    xs_test = xs_test[xs.columns.to_list()]\n",
    "    return xs_test\n",
    "\n",
    "def final_one_prediction(df,rf,xgbR):\n",
    "    xs_test = one_prediction(df)\n",
    "    pred_rf = rf.predict(xs_test)\n",
    "    pred_xgb = xgbR.predict(xs_test)\n",
    "    combined_predictions = [\n",
    "    pred_rf * 0.1,\n",
    "    pred_xgb * 0.89999999,\n",
    "        ]\n",
    "\n",
    "    # Compute the weighted average\n",
    "    preds_weighted = np.sum(combined_predictions, axis=0)\n",
    "\n",
    "    # print(f'Predicted Pledged: $ {np.exp(preds_weighted[0]):.2f}')\n",
    "    return preds_weighted\n"
   ]
  },
  {
   "cell_type": "markdown",
   "id": "a332a53d-7971-4723-bc16-02fe83cd4537",
   "metadata": {},
   "source": [
    "# Real Talk"
   ]
  },
  {
   "cell_type": "markdown",
   "id": "c91ec6b0-bf27-46fa-a063-1dc8dc3a9fee",
   "metadata": {},
   "source": [
    "## Load and clean data"
   ]
  },
  {
   "cell_type": "code",
   "execution_count": 11,
   "id": "a2ce3da2-b5e2-414e-9bce-5376ec103407",
   "metadata": {
    "tags": []
   },
   "outputs": [],
   "source": [
    "df =  pd.read_csv('event_camp.csv', encoding_errors='ignore')\n",
    "\n",
    "df = all_data_preprocessing(df)"
   ]
  },
  {
   "cell_type": "markdown",
   "id": "98bb422b-4196-4742-855e-c39c6e039ed1",
   "metadata": {},
   "source": [
    "## Train / Test Split"
   ]
  },
  {
   "cell_type": "code",
   "execution_count": 5,
   "id": "27263607-3ae2-4400-bc4b-93a22f8fc988",
   "metadata": {
    "tags": []
   },
   "outputs": [],
   "source": [
    "df1, df_test = train_test_split(df)"
   ]
  },
  {
   "cell_type": "code",
   "execution_count": 6,
   "id": "9abf7162-fc29-4e83-9616-effeee0cb50b",
   "metadata": {
    "tags": []
   },
   "outputs": [],
   "source": [
    "to = load_pickle('./to_event.pkl')\n",
    "y = to.train.y\n",
    "valid_y = to.valid.y\n",
    "xs = load_pickle('./xs_final.pkl')\n",
    "valid_xs = load_pickle('./valid_xs_final.pkl')"
   ]
  },
  {
   "cell_type": "markdown",
   "id": "145f7947-c3f8-41a7-9cf2-720ab5dc78e0",
   "metadata": {},
   "source": [
    "# GUI"
   ]
  },
  {
   "cell_type": "code",
   "execution_count": 7,
   "id": "917cd8fb-8bf3-453e-9ff8-ce37cfa3b576",
   "metadata": {
    "tags": []
   },
   "outputs": [],
   "source": [
    "categories = list(df1['category'].unique())\n",
    "sub_cat = list(df1['subcategory'].unique())\n",
    "loc = list(df1['location'].unique())\n",
    "stat = list(df1['status'].unique())\n",
    "\n"
   ]
  },
  {
   "cell_type": "code",
   "execution_count": 8,
   "id": "6b155d08-3bcc-4b2d-894a-04e5eafb034b",
   "metadata": {
    "tags": []
   },
   "outputs": [
    {
     "data": {
      "application/vnd.jupyter.widget-view+json": {
       "model_id": "2f91b89c122146c99c13194057325033",
       "version_major": 2,
       "version_minor": 0
      },
      "text/plain": [
       "Text(value='Point of Descent', description='Name:')"
      ]
     },
     "metadata": {},
     "output_type": "display_data"
    },
    {
     "data": {
      "application/vnd.jupyter.widget-view+json": {
       "model_id": "215a297db5c44bb6addba855c501aa67",
       "version_major": 2,
       "version_minor": 0
      },
      "text/plain": [
       "Dropdown(description='Category:', index=1, options=('Film & Video', 'Games', 'Fashion', 'Art', 'Technology', '…"
      ]
     },
     "metadata": {},
     "output_type": "display_data"
    },
    {
     "data": {
      "application/vnd.jupyter.widget-view+json": {
       "model_id": "d55d99410d1d4ad4a654b208bccdd509",
       "version_major": 2,
       "version_minor": 0
      },
      "text/plain": [
       "Dropdown(description='subcategory:', index=18, options=('Short Film', 'Board & Card Games', 'Animation', 'Fash…"
      ]
     },
     "metadata": {},
     "output_type": "display_data"
    },
    {
     "data": {
      "application/vnd.jupyter.widget-view+json": {
       "model_id": "36f2aee5b5cd45aab80d3009544f6e40",
       "version_major": 2,
       "version_minor": 0
      },
      "text/plain": [
       "FloatText(value=2500.0, description='Goal:')"
      ]
     },
     "metadata": {},
     "output_type": "display_data"
    },
    {
     "data": {
      "application/vnd.jupyter.widget-view+json": {
       "model_id": "3798653f289e4340aabd0df4463f8746",
       "version_major": 2,
       "version_minor": 0
      },
      "text/plain": [
       "Dropdown(description='location:', options=('Columbia, MO', 'Maplewood, NJ', 'Los Angeles, CA', 'Portland, OR',…"
      ]
     },
     "metadata": {},
     "output_type": "display_data"
    },
    {
     "data": {
      "application/vnd.jupyter.widget-view+json": {
       "model_id": "4ff6e5c09c8a4bf7b6a7b02353ca1a9f",
       "version_major": 2,
       "version_minor": 0
      },
      "text/plain": [
       "Dropdown(description='status:', options=('successful', 'failed', 'live', 'canceled', 'suspended'), value='succ…"
      ]
     },
     "metadata": {},
     "output_type": "display_data"
    },
    {
     "data": {
      "application/vnd.jupyter.widget-view+json": {
       "model_id": "42328e1fddd94b9a8fcdde1abd1af25c",
       "version_major": 2,
       "version_minor": 0
      },
      "text/plain": [
       "FloatText(value=1.038, description='funded percentage:')"
      ]
     },
     "metadata": {},
     "output_type": "display_data"
    },
    {
     "data": {
      "application/vnd.jupyter.widget-view+json": {
       "model_id": "863f31bb57a747d8bd3430b83a05b3b1",
       "version_major": 2,
       "version_minor": 0
      },
      "text/plain": [
       "FloatText(value=21.0, description='backers:')"
      ]
     },
     "metadata": {},
     "output_type": "display_data"
    },
    {
     "data": {
      "application/vnd.jupyter.widget-view+json": {
       "model_id": "d1ffb14094e3495387ed74e2f028fa86",
       "version_major": 2,
       "version_minor": 0
      },
      "text/plain": [
       "FloatText(value=8.0, description='levels:')"
      ]
     },
     "metadata": {},
     "output_type": "display_data"
    },
    {
     "data": {
      "application/vnd.jupyter.widget-view+json": {
       "model_id": "1d3ab3a3550a46cbb84b83ac511b9488",
       "version_major": 2,
       "version_minor": 0
      },
      "text/plain": [
       "FloatText(value=6.0, description='updates:')"
      ]
     },
     "metadata": {},
     "output_type": "display_data"
    },
    {
     "data": {
      "application/vnd.jupyter.widget-view+json": {
       "model_id": "0667e9e70c9f410b9d0c8978c0bc7d3c",
       "version_major": 2,
       "version_minor": 0
      },
      "text/plain": [
       "FloatText(value=3.0, description='comments:')"
      ]
     },
     "metadata": {},
     "output_type": "display_data"
    },
    {
     "data": {
      "application/vnd.jupyter.widget-view+json": {
       "model_id": "ee483b4abb3d40d3a020a56a07f0a0c3",
       "version_major": 2,
       "version_minor": 0
      },
      "text/plain": [
       "FloatText(value=91.0, description='duration:')"
      ]
     },
     "metadata": {},
     "output_type": "display_data"
    },
    {
     "data": {
      "application/vnd.jupyter.widget-view+json": {
       "model_id": "93921469ef2745f5a0220ad98d3bb54f",
       "version_major": 2,
       "version_minor": 0
      },
      "text/plain": [
       "Output()"
      ]
     },
     "metadata": {},
     "output_type": "display_data"
    },
    {
     "data": {
      "application/vnd.jupyter.widget-view+json": {
       "model_id": "f0d1dc16be414f0fbf609ab1c36dde4f",
       "version_major": 2,
       "version_minor": 0
      },
      "text/plain": [
       "Button(button_style='success', description='Save Changes', style=ButtonStyle())"
      ]
     },
     "metadata": {},
     "output_type": "display_data"
    }
   ],
   "source": [
    "import ipywidgets as widgets\n",
    "from IPython.display import display, clear_output\n",
    "\n",
    "# Create input fields\n",
    "\n",
    "name = widgets.Text(value=\"Point of Descent\", description=\"Name:\")\n",
    "\n",
    "category = widgets.Dropdown(value=categories[1], options=categories ,description=\"Category:\")\n",
    "\n",
    "subcategory = widgets.Dropdown(value=sub_cat[18], options =sub_cat, description=\"subcategory:\")\n",
    "\n",
    "\n",
    "goal = widgets.FloatText(value=2500.0, description=\"Goal:\")\n",
    "\n",
    "location = widgets.Dropdown(value=loc[0],options=loc, description=\"location:\")\n",
    "\n",
    "status = widgets.Dropdown(value=stat[0],options=stat, description=\"status:\")\n",
    "\n",
    "funded_percentage = widgets.FloatText(value=1.038, description=\"funded percentage:\")\n",
    "\n",
    "backers = widgets.FloatText(value=21, description=\"backers:\")\n",
    "\n",
    "\n",
    "levels = widgets.FloatText(value=8, description=\"levels:\")\n",
    "\n",
    "updates = widgets.FloatText(value=6, description=\"updates:\")\n",
    "\n",
    "comments = widgets.FloatText(value=3, description=\"comments:\")\n",
    "\n",
    "duration = widgets.FloatText(value=91.0, description=\"duration:\")\n",
    "\n",
    "\n",
    "# Display widgets\n",
    "display(name, category,subcategory, goal,location, status, funded_percentage, backers, levels, updates, comments, duration)\n",
    "\n",
    "# Output widget for displaying updates\n",
    "output = widgets.Output()\n",
    "display(output)\n",
    "\n",
    "data = {}\n",
    "\n",
    "# Function to save values\n",
    "def save_changes(b):\n",
    "    # python default behavior is to treat the \n",
    "    # variables inside a function as local variables \n",
    "    # unless explicitly specified as global \n",
    "    global data\n",
    "    # display(name, category, goal,location, status, funded_percentage, backers, funded_date, levels, updates, comments, duration)\n",
    "    data = {\n",
    "        \"project id\": 2623100,\n",
    "        \"name\": name.value,\n",
    "        \"url\": \"http://www.kickstarter.com/projects/bmag-games/point-of-descent\",\n",
    "        \"category\": category.value,\n",
    "        \"subcategory\": subcategory.value,\n",
    "        \"location\": location.value,\n",
    "        \"status\": status.value,\n",
    "        \"goal\": goal.value,\n",
    "        \"pledged\": 2595.0,\n",
    "        \"funded percentage\": funded_percentage.value,\n",
    "        \"backers\": backers.value,\n",
    "        \"funded date\": \"Sat, 25 Jun 2011 15:54:12 -0000\",\n",
    "        \"levels\": levels.value,\n",
    "        \"reward levels\": \"5, 10, 25, 25, 100, 100, 500, 500\",\n",
    "        \"updates\": updates.value,\n",
    "        \"comments\": comments.value,\n",
    "        \"duration\": duration.value,\n",
    "        \"reward levels\" : \"$5,$10,$25,$25,$100,$100,$500,$500\"\n",
    "        \n",
    "    }\n",
    "\n",
    "# Save button\n",
    "save_button = widgets.Button(description=\"Save Changes\", button_style='success')\n",
    "save_button.on_click(save_changes)\n",
    "display(save_button)"
   ]
  },
  {
   "cell_type": "code",
   "execution_count": 13,
   "id": "3280eb4f-9a48-4502-a371-dc73741e135d",
   "metadata": {
    "tags": []
   },
   "outputs": [
    {
     "data": {
      "text/plain": [
       "{'project id': 2623100,\n",
       " 'name': 'Point of Descent',\n",
       " 'url': 'http://www.kickstarter.com/projects/bmag-games/point-of-descent',\n",
       " 'category': 'Games',\n",
       " 'subcategory': 'Video Games',\n",
       " 'location': 'Columbia, MO',\n",
       " 'status': 'successful',\n",
       " 'goal': 2500.0,\n",
       " 'pledged': 2595.0,\n",
       " 'funded percentage': 1.038,\n",
       " 'backers': 21.0,\n",
       " 'funded date': 'Sat, 25 Jun 2011 15:54:12 -0000',\n",
       " 'levels': 8.0,\n",
       " 'reward levels': '$5,$10,$25,$25,$100,$100,$500,$500',\n",
       " 'updates': 6.0,\n",
       " 'comments': 3.0,\n",
       " 'duration': 91.0}"
      ]
     },
     "execution_count": 13,
     "metadata": {},
     "output_type": "execute_result"
    }
   ],
   "source": [
    "data"
   ]
  },
  {
   "cell_type": "code",
   "execution_count": 14,
   "id": "1a610838-b641-4e93-8529-394438f5b7b4",
   "metadata": {
    "tags": []
   },
   "outputs": [],
   "source": [
    "import joblib\n",
    "learners = joblib.load(\"event_pledged.joblib\")\n",
    "rf = learners['rf']\n",
    "xgbR = learners['xgb']"
   ]
  },
  {
   "cell_type": "code",
   "execution_count": 15,
   "id": "36c2ace7-b679-4cf8-b476-934cac19520e",
   "metadata": {
    "tags": []
   },
   "outputs": [
    {
     "data": {
      "text/html": [
       "\n",
       "<div style=\"border: 2px solid #4CAF50; border-radius: 10px; padding: 20px; width: 300px; \n",
       "            background-color: #f0f8ff; box-shadow: 0px 4px 8px rgba(0, 0, 0, 0.1);\">\n",
       "    <h2 style=\"color: green; text-align: center;\">Predicted Pledge: <strong>$2608.30</strong></h2>\n",
       "</div>\n"
      ],
      "text/plain": [
       "<IPython.core.display.HTML object>"
      ]
     },
     "metadata": {},
     "output_type": "display_data"
    }
   ],
   "source": [
    "df = pd.DataFrame([data])\n",
    "\n",
    "\n",
    "df = all_data_preprocessing(df)\n",
    "pred = final_one_prediction(df,rf,xgbR)\n",
    "\n",
    "# Create HTML with styling for a card\n",
    "html_content = f\"\"\"\n",
    "<div style=\"border: 2px solid #4CAF50; border-radius: 10px; padding: 20px; width: 300px; \n",
    "            background-color: #f0f8ff; box-shadow: 0px 4px 8px rgba(0, 0, 0, 0.1);\">\n",
    "    <h2 style=\"color: green; text-align: center;\">Predicted Pledge: <strong>${np.exp(pred[0]):.2f}</strong></h2>\n",
    "</div>\n",
    "\"\"\"\n",
    "\n",
    "# Display the card\n",
    "display(HTML(html_content))"
   ]
  },
  {
   "cell_type": "code",
   "execution_count": 16,
   "id": "67542183-2a3c-401c-ac1c-f1b77b02d870",
   "metadata": {
    "tags": []
   },
   "outputs": [
    {
     "data": {
      "text/plain": [
       "0.004728"
      ]
     },
     "execution_count": 16,
     "metadata": {},
     "output_type": "execute_result"
    }
   ],
   "source": [
    "r_mse(pred, np.log1p(2595.0))"
   ]
  },
  {
   "cell_type": "markdown",
   "id": "caf05de9-f65e-434b-803d-270758f87094",
   "metadata": {},
   "source": [
    "# Accuracy ? "
   ]
  },
  {
   "cell_type": "markdown",
   "id": "a3d27094-9a04-453b-98a2-7c5ba3857062",
   "metadata": {},
   "source": [
    "# Interpretation of RMSLE Error (0.004728)\n",
    "\n",
    "## 1. Magnitude of Error (0.004728)\n",
    "- Since RMSLE is calculated on the log-transformed values of the actual and predicted targets, an error of **0.004728** is **very low**.\n",
    "- This means your predictions are **very close** to the actual values in a relative sense.\n",
    "\n",
    "## 2. Effect in Real Scale\n",
    "- Because the error is in the log-transformed scale, we can approximate its real-world effect:\n",
    "- If $$ \\text{RMSLE} = 0.004728 $$, then the predicted value deviates by approximately:\n",
    "\n",
    "  $$ e^{0.004728} \\approx 1.00474 $$\n",
    "\n",
    "  times from the actual value.\n",
    "- This means, on average, your predictions differ by only **0.474%** from the actual values."
   ]
  },
  {
   "cell_type": "markdown",
   "id": "d877e8fb-c19a-4ad4-9262-0fa771cb6351",
   "metadata": {},
   "source": [
    "# How to Interpret in Real-World Predictions\n",
    "\n",
    "- If the actual value is **$2595**, then the predicted value is expected to be within:\n",
    "\n",
    "  $$ 2595 \\times (1 \\pm 0.00474) = [2582.7, 2607.3] $$\n",
    "\n",
    "- This means the model’s prediction is usually very close to the actual value."
   ]
  },
  {
   "cell_type": "markdown",
   "id": "35bf04dc-7792-4b06-bd93-d2a91c299f72",
   "metadata": {},
   "source": [
    "# Resources\n",
    "\n",
    "$$ CHATGPT $$\n",
    "$$ Fast ai $$\n",
    "$$ Sci-kitlearn $$\n",
    "\n",
    "\n",
    "\n",
    "## Previous project\n",
    "[AI-POWERED WEB APP](https://github.com/Ali-Alshaikh/AI-Powered-WebApp/blob/master/ai/house_price_prediction.ipynb)"
   ]
  },
  {
   "cell_type": "code",
   "execution_count": null,
   "id": "ad8063cd-3a16-4c20-b589-d86499314537",
   "metadata": {},
   "outputs": [],
   "source": []
  }
 ],
 "metadata": {
  "kernelspec": {
   "display_name": "Python 3 (ipykernel)",
   "language": "python",
   "name": "python3"
  },
  "language_info": {
   "codemirror_mode": {
    "name": "ipython",
    "version": 3
   },
   "file_extension": ".py",
   "mimetype": "text/x-python",
   "name": "python",
   "nbconvert_exporter": "python",
   "pygments_lexer": "ipython3",
   "version": "3.11.7"
  }
 },
 "nbformat": 4,
 "nbformat_minor": 5
}
